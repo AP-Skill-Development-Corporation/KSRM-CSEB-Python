{
 "cells": [
  {
   "cell_type": "markdown",
   "id": "4fc2ed27",
   "metadata": {},
   "source": [
    "# Python Basics"
   ]
  },
  {
   "cell_type": "markdown",
   "id": "0573cf92",
   "metadata": {},
   "source": [
    "## Variable:\n",
    "    - To store a value\n",
    "    - To change a value\n",
    "    Syntax:\n",
    "        variablename = value"
   ]
  },
  {
   "cell_type": "code",
   "execution_count": 1,
   "id": "91797688",
   "metadata": {},
   "outputs": [
    {
     "data": {
      "text/plain": [
       "10"
      ]
     },
     "execution_count": 1,
     "metadata": {},
     "output_type": "execute_result"
    }
   ],
   "source": [
    "a = 10\n",
    "a"
   ]
  },
  {
   "cell_type": "code",
   "execution_count": 2,
   "id": "9228b00e",
   "metadata": {},
   "outputs": [
    {
     "data": {
      "text/plain": [
       "45.0"
      ]
     },
     "execution_count": 2,
     "metadata": {},
     "output_type": "execute_result"
    }
   ],
   "source": [
    "k = 45.00\n",
    "k"
   ]
  },
  {
   "cell_type": "code",
   "execution_count": 3,
   "id": "d4dafa6c",
   "metadata": {},
   "outputs": [
    {
     "ename": "NameError",
     "evalue": "name 'y' is not defined",
     "output_type": "error",
     "traceback": [
      "\u001b[1;31m---------------------------------------------------------------------------\u001b[0m",
      "\u001b[1;31mNameError\u001b[0m                                 Traceback (most recent call last)",
      "Cell \u001b[1;32mIn[3], line 1\u001b[0m\n\u001b[1;32m----> 1\u001b[0m \u001b[43my\u001b[49m\n",
      "\u001b[1;31mNameError\u001b[0m: name 'y' is not defined"
     ]
    }
   ],
   "source": [
    "y"
   ]
  },
  {
   "cell_type": "code",
   "execution_count": 5,
   "id": "76b7d67e",
   "metadata": {},
   "outputs": [
    {
     "data": {
      "text/plain": [
       "78.011"
      ]
     },
     "execution_count": 5,
     "metadata": {},
     "output_type": "execute_result"
    }
   ],
   "source": [
    "z = 56\n",
    "h = 78.011\n",
    "z\n",
    "h"
   ]
  },
  {
   "cell_type": "code",
   "execution_count": 6,
   "id": "e3d54727",
   "metadata": {},
   "outputs": [
    {
     "data": {
      "text/plain": [
       "(56, 78.011)"
      ]
     },
     "execution_count": 6,
     "metadata": {},
     "output_type": "execute_result"
    }
   ],
   "source": [
    "z,h"
   ]
  },
  {
   "cell_type": "code",
   "execution_count": 7,
   "id": "1bb500f9",
   "metadata": {},
   "outputs": [
    {
     "data": {
      "text/plain": [
       "'67'"
      ]
     },
     "execution_count": 7,
     "metadata": {},
     "output_type": "execute_result"
    }
   ],
   "source": [
    "j = '67'\n",
    "j"
   ]
  },
  {
   "cell_type": "code",
   "execution_count": 8,
   "id": "7c7753c5",
   "metadata": {},
   "outputs": [
    {
     "name": "stdout",
     "output_type": "stream",
     "text": [
      "45 78.0\n"
     ]
    }
   ],
   "source": [
    "s = 45\n",
    "p = 78.000\n",
    "print(s,p)"
   ]
  },
  {
   "cell_type": "code",
   "execution_count": 9,
   "id": "e6e776b6",
   "metadata": {},
   "outputs": [
    {
     "name": "stdout",
     "output_type": "stream",
     "text": [
      "45 89.0112\n"
     ]
    }
   ],
   "source": [
    "m = '45'\n",
    "n = '89.0112'\n",
    "print(m,n)"
   ]
  },
  {
   "cell_type": "markdown",
   "id": "cdcb04f5",
   "metadata": {},
   "source": [
    "## Variable Assignments:\n",
    "    - single variable to single value\n",
    "    - n number of variables to n values\n",
    "    - n variables to single value"
   ]
  },
  {
   "cell_type": "code",
   "execution_count": 10,
   "id": "e33d9625",
   "metadata": {},
   "outputs": [
    {
     "name": "stdout",
     "output_type": "stream",
     "text": [
      "45 96.0 78.46551\n"
     ]
    }
   ],
   "source": [
    "a,b,c = 45,96.00,'78.46551'\n",
    "print(a,b,c)"
   ]
  },
  {
   "cell_type": "code",
   "execution_count": 11,
   "id": "638ab8fc",
   "metadata": {},
   "outputs": [
    {
     "name": "stdout",
     "output_type": "stream",
     "text": [
      "500 500 500\n"
     ]
    }
   ],
   "source": [
    "j = k = m = 500\n",
    "print(j,k,m)"
   ]
  },
  {
   "cell_type": "code",
   "execution_count": 12,
   "id": "53692381",
   "metadata": {},
   "outputs": [
    {
     "ename": "ValueError",
     "evalue": "too many values to unpack (expected 3)",
     "output_type": "error",
     "traceback": [
      "\u001b[1;31m---------------------------------------------------------------------------\u001b[0m",
      "\u001b[1;31mValueError\u001b[0m                                Traceback (most recent call last)",
      "Cell \u001b[1;32mIn[12], line 1\u001b[0m\n\u001b[1;32m----> 1\u001b[0m w,e,r \u001b[38;5;241m=\u001b[39m \u001b[38;5;241m45\u001b[39m,\u001b[38;5;241m28.012\u001b[39m,\u001b[38;5;124m'\u001b[39m\u001b[38;5;124m89656\u001b[39m\u001b[38;5;124m'\u001b[39m,\u001b[38;5;124m'\u001b[39m\u001b[38;5;124mRamesh\u001b[39m\u001b[38;5;124m'\u001b[39m\n",
      "\u001b[1;31mValueError\u001b[0m: too many values to unpack (expected 3)"
     ]
    }
   ],
   "source": [
    "w,e,r = 45,28.012,'89656','Ramesh'"
   ]
  },
  {
   "cell_type": "code",
   "execution_count": 13,
   "id": "25d446b4",
   "metadata": {},
   "outputs": [
    {
     "ename": "ValueError",
     "evalue": "not enough values to unpack (expected 4, got 3)",
     "output_type": "error",
     "traceback": [
      "\u001b[1;31m---------------------------------------------------------------------------\u001b[0m",
      "\u001b[1;31mValueError\u001b[0m                                Traceback (most recent call last)",
      "Cell \u001b[1;32mIn[13], line 1\u001b[0m\n\u001b[1;32m----> 1\u001b[0m z,b,v,m \u001b[38;5;241m=\u001b[39m \u001b[38;5;241m12\u001b[39m,\u001b[38;5;241m95.000\u001b[39m,\u001b[38;5;241m78\u001b[39m\n",
      "\u001b[1;31mValueError\u001b[0m: not enough values to unpack (expected 4, got 3)"
     ]
    }
   ],
   "source": [
    "z,b,v,m = 12,95.000,78"
   ]
  },
  {
   "cell_type": "code",
   "execution_count": 14,
   "id": "0af9b8b5",
   "metadata": {},
   "outputs": [
    {
     "name": "stdout",
     "output_type": "stream",
     "text": [
      "(45, 8.015, 'Lalitha')\n"
     ]
    }
   ],
   "source": [
    "d = 45,8.015,'Lalitha'\n",
    "print(d)"
   ]
  },
  {
   "cell_type": "markdown",
   "id": "4fcf154e",
   "metadata": {},
   "source": [
    "## Data Types:\n",
    "    - int => Only numbers\n",
    "    - float => Decimal and numbers\n",
    "    - str => ' or \"\n",
    "    - complex => real and imaginary parts\n",
    "    - boolean => True or False\n",
    "    - none => None\n",
    "    - All Data structures Like [List,Tuple,Set and Dictionary]"
   ]
  },
  {
   "cell_type": "markdown",
   "id": "431666e6",
   "metadata": {},
   "source": [
    "## Type:\n",
    "    - To know the data type of a variable\n",
    "    Syntax:\n",
    "        type(variablename)"
   ]
  },
  {
   "cell_type": "code",
   "execution_count": 15,
   "id": "d6e483c2",
   "metadata": {},
   "outputs": [
    {
     "name": "stdout",
     "output_type": "stream",
     "text": [
      "12 <class 'int'>\n",
      "56.0 <class 'float'>\n",
      "Tilak <class 'str'>\n",
      "False <class 'bool'>\n",
      "(4+5j) <class 'complex'>\n",
      "None <class 'NoneType'>\n"
     ]
    }
   ],
   "source": [
    "a,b,c,d,e,f = 12,56.00,'Tilak',False,4+5j,None\n",
    "print(a,type(a))\n",
    "print(b,type(b))\n",
    "print(c,type(c))\n",
    "print(d,type(d))\n",
    "print(e,type(e))\n",
    "print(f,type(f))"
   ]
  },
  {
   "cell_type": "code",
   "execution_count": 18,
   "id": "6fdf63c1",
   "metadata": {},
   "outputs": [
    {
     "data": {
      "text/plain": [
       "str"
      ]
     },
     "execution_count": 18,
     "metadata": {},
     "output_type": "execute_result"
    }
   ],
   "source": [
    "h = '45'\n",
    "type(h)"
   ]
  },
  {
   "cell_type": "markdown",
   "id": "d54f6c9c",
   "metadata": {},
   "source": [
    "## Input Formatting:\n",
    "    - It displays an info to a user\n",
    "    - It access values from a user\n",
    "    - By default it stores string data type values\n",
    "    Syntax:\n",
    "        variablename = input('info to a user')"
   ]
  },
  {
   "cell_type": "code",
   "execution_count": 3,
   "id": "d246f3ac",
   "metadata": {},
   "outputs": [
    {
     "name": "stdout",
     "output_type": "stream",
     "text": [
      "Enter a value: a\n",
      "a <class 'str'>\n"
     ]
    }
   ],
   "source": [
    "n = input(\"Enter a value: \")\n",
    "print(n,type(n))"
   ]
  },
  {
   "cell_type": "code",
   "execution_count": 4,
   "id": "5985dfab",
   "metadata": {},
   "outputs": [
    {
     "data": {
      "text/plain": [
       "20"
      ]
     },
     "execution_count": 4,
     "metadata": {},
     "output_type": "execute_result"
    }
   ],
   "source": [
    "a = 20\n",
    "a"
   ]
  },
  {
   "cell_type": "code",
   "execution_count": 5,
   "id": "472d2f83",
   "metadata": {},
   "outputs": [
    {
     "name": "stdout",
     "output_type": "stream",
     "text": [
      "Enter a value: 78\n",
      "Enter b value: 52.012\n",
      "78 <class 'str'> 52.012 <class 'str'>\n"
     ]
    }
   ],
   "source": [
    "n,m = input(\"Enter a value: \"),input(\"Enter b value: \")\n",
    "print(n,type(n),m,type(m))"
   ]
  },
  {
   "cell_type": "markdown",
   "id": "b152598d",
   "metadata": {},
   "source": [
    "## Typecasting\n",
    "    - To change one data type to another data type \n",
    "    - int()\n",
    "    - float()\n",
    "    - str()\n",
    "    - complex()\n",
    "    - bool()\n",
    "    - All Data Structures Like[List,Tuple,Set and Dictionary]"
   ]
  },
  {
   "cell_type": "markdown",
   "id": "dfe728d1",
   "metadata": {},
   "source": [
    "```\n",
    "Input:\n",
    "    Enter a number: ?\n",
    "    Enter b number: ?\n",
    "Output:\n",
    "    Addition of ? and ? is: ?\n",
    "```"
   ]
  },
  {
   "cell_type": "code",
   "execution_count": 7,
   "id": "488a167c",
   "metadata": {},
   "outputs": [
    {
     "name": "stdout",
     "output_type": "stream",
     "text": [
      "Enter a number: 4\n",
      "Enter b number: 2\n",
      "Addition of 4 and 2 is:  6\n"
     ]
    }
   ],
   "source": [
    "n,m = input(\"Enter a number: \"),input(\"Enter b number: \")\n",
    "print(\"Addition of\",n,\"and\",m,\"is: \",int(n)+int(m))"
   ]
  },
  {
   "cell_type": "markdown",
   "id": "99b14ed8",
   "metadata": {},
   "source": [
    "## Output Formatting:\n",
    "    - ,\n",
    "    - format specifier\n",
    "    - .format\n",
    "    - f string"
   ]
  },
  {
   "cell_type": "code",
   "execution_count": 12,
   "id": "058f19ca",
   "metadata": {},
   "outputs": [
    {
     "name": "stdout",
     "output_type": "stream",
     "text": [
      "Enter a value: 4\n",
      "Enter b value: 6\n",
      "Addition of 4 and 6 is:  10\n",
      "Substraction of 4 and 6 is: -2\n",
      "Division of 6 and 4 is: 0.6666666666666666\n",
      "Multiplication of 4 and 6 is: 24\n"
     ]
    }
   ],
   "source": [
    "n,m = int(input(\"Enter a value: \")),int(input(\"Enter b value: \"))\n",
    "print(\"Addition of\",n,\"and\",m,\"is: \",n+m)\n",
    "print(\"Substraction of %d and %d is: %d\"%(n,m,n-m))\n",
    "print(\"Division of {1} and {0} is: {2}\".format(n,m,n/m))\n",
    "print(f\"Multiplication of {n} and {m} is: {n*m}\")"
   ]
  },
  {
   "attachments": {},
   "cell_type": "markdown",
   "id": "8a03c720",
   "metadata": {},
   "source": [
    "## Operators:\n",
    "    - Arithmetic => +,-,*,/,%,//,**\n",
    "    - Bitwise => &,|,<<,>>,!\n",
    "    - Logical => AND,OR,NOT\n",
    "    - Relational => >,<,>=,<=,!=,==\n",
    "    - Assignment => +=,-=,*=,/=,//=,**=,%=\n",
    "    - Memebership => in,not in\n",
    "    - Identity => is, is not"
   ]
  },
  {
   "cell_type": "code",
   "execution_count": null,
   "id": "afa0f144",
   "metadata": {},
   "outputs": [],
   "source": []
  }
 ],
 "metadata": {
  "kernelspec": {
   "display_name": "Python 3 (ipykernel)",
   "language": "python",
   "name": "python3"
  },
  "language_info": {
   "codemirror_mode": {
    "name": "ipython",
    "version": 3
   },
   "file_extension": ".py",
   "mimetype": "text/x-python",
   "name": "python",
   "nbconvert_exporter": "python",
   "pygments_lexer": "ipython3",
   "version": "3.9.13"
  }
 },
 "nbformat": 4,
 "nbformat_minor": 5
}
