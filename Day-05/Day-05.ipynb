{
 "cells": [
  {
   "cell_type": "code",
   "execution_count": 9,
   "id": "605c5ccc",
   "metadata": {},
   "outputs": [],
   "source": [
    "def gry():\n",
    "    m = int(input(\"Enter a number to calculate Factorial: \"))\n",
    "    v = 1\n",
    "    for i in range(1,m+1):\n",
    "        v*=i\n",
    "    print(\"Factorial of {} is: {}\".format(m,v))\n",
    "    return\n",
    "\n",
    "def evn(z):\n",
    "    for i in range(1,z+1):\n",
    "        if i%2==0:\n",
    "            print(i,end=\" \")\n",
    "        else:\n",
    "            print(\"Odd\",end=\" \")\n",
    "    print()\n",
    "    return\n",
    "\n",
    "def sn(m):\n",
    "    q = 0\n",
    "    for i in range(1,m+1):\n",
    "        q+=i\n",
    "    return q"
   ]
  },
  {
   "cell_type": "code",
   "execution_count": 8,
   "id": "f3bf0cc9",
   "metadata": {},
   "outputs": [
    {
     "name": "stdout",
     "output_type": "stream",
     "text": [
      "1.Factorial\n",
      "2.Sum of n natural\n",
      "3.Even numbers\n",
      "4.Exit\n",
      "Select Your Option: 4\n"
     ]
    }
   ],
   "source": [
    "while True:\n",
    "    print(\"1.Factorial\\n2.Sum of n natural\\n3.Even numbers\\n4.Exit\")\n",
    "    p = int(input(\"Select Your Option: \"))\n",
    "    if p == 1:\n",
    "        gry()\n",
    "    elif p == 3:\n",
    "        h = int(input(\"Enter a range: \"))\n",
    "        evn(h)\n",
    "    elif p == 2:\n",
    "        c = int(input(\"Enter a range: \"))\n",
    "        print(\"Sum of {} natural sum is: {}\".format(c,sn(c)))\n",
    "    elif p == 4:\n",
    "        break\n",
    "    else:\n",
    "        print(\"Try Valid options\\n\")"
   ]
  },
  {
   "cell_type": "markdown",
   "id": "d4b0a974",
   "metadata": {},
   "source": [
    "## Data Structures:\n",
    "    - To organize the data in order or unorder format\n",
    "    - List\n",
    "    - Tuple\n",
    "    - Set\n",
    "    - Dictionary\n",
    "    - String"
   ]
  },
  {
   "cell_type": "markdown",
   "id": "a8602aa3",
   "metadata": {},
   "source": [
    "## List:\n",
    "    - It can be represented as \"[]\"\n",
    "    - It stores different data type elements and seperated with ','\n",
    "    - It allows duplicate values\n",
    "    - It stores data in ordered format\n",
    "    - It can changes a value\n",
    "    - Slicing can be done because of index values\n",
    "    - It can be typecasted as list()"
   ]
  },
  {
   "cell_type": "code",
   "execution_count": 10,
   "id": "2e5ba16e",
   "metadata": {},
   "outputs": [
    {
     "name": "stdout",
     "output_type": "stream",
     "text": [
      "<class 'int'>\n"
     ]
    }
   ],
   "source": [
    "j = 10\n",
    "print(type(j))"
   ]
  },
  {
   "cell_type": "code",
   "execution_count": 13,
   "id": "7e180d46",
   "metadata": {},
   "outputs": [
    {
     "name": "stdout",
     "output_type": "stream",
     "text": [
      "<class 'list'>\n",
      "[2, 85.012, 'Prasad', True, (45+5j), None, 2, 2, 2]\n"
     ]
    }
   ],
   "source": [
    "w = [2,85.012,'Prasad',True,45+5j,None,2,2,2]\n",
    "print(type(w))\n",
    "print(w)"
   ]
  },
  {
   "cell_type": "code",
   "execution_count": 17,
   "id": "8b1f4f13",
   "metadata": {},
   "outputs": [
    {
     "name": "stdout",
     "output_type": "stream",
     "text": [
      "0 2\n",
      "1 85.012\n",
      "2 Prasad\n",
      "3 True\n",
      "4 (45+5j)\n",
      "5 None\n",
      "6 2\n",
      "7 2\n",
      "8 2\n"
     ]
    }
   ],
   "source": [
    "for i in range(len(w)):\n",
    "    print(i,w[i])"
   ]
  },
  {
   "cell_type": "code",
   "execution_count": 18,
   "id": "4ad92cea",
   "metadata": {},
   "outputs": [
    {
     "name": "stdout",
     "output_type": "stream",
     "text": [
      "2\n",
      "85.012\n",
      "Prasad\n",
      "True\n",
      "(45+5j)\n",
      "None\n",
      "2\n",
      "2\n",
      "2\n"
     ]
    }
   ],
   "source": [
    "for i in w:\n",
    "    print(i)"
   ]
  },
  {
   "cell_type": "code",
   "execution_count": 35,
   "id": "bff8e388",
   "metadata": {},
   "outputs": [
    {
     "name": "stdout",
     "output_type": "stream",
     "text": [
      "[23, 56.89, 'Lalitha', '45.012', False, (15+4j), 23, 23]\n",
      "Lalitha\n",
      "False\n",
      "[23, 56.89, 'Lalitha', '45.012', False, (15+4j), 23, 23]\n",
      "['Lalitha', '45.012', False, (15+4j), 23, 23]\n",
      "[23, 56.89, 'Lalitha', '45.012', False]\n",
      "[False, (15+4j), 23, 23]\n",
      "[23, 56.89, 'Lalitha', '45.012', False]\n",
      "['45.012', False, (15+4j)]\n",
      "[]\n",
      "['Lalitha', '45.012', False]\n",
      "[56.89, 'Lalitha', '45.012', False, (15+4j)]\n",
      "[]\n",
      "['45.012', False]\n"
     ]
    }
   ],
   "source": [
    "t = [23,56.89,'Lalitha','45.012',False,15+4j,23,23]\n",
    "print(t)\n",
    "print(t[2])\n",
    "print(t[-4])\n",
    "# print(t[20])\n",
    "# print(t[-30])\n",
    "print(t[:])\n",
    "print(t[2:])\n",
    "print(t[:5])\n",
    "print(t[-4:])\n",
    "print(t[:-3])\n",
    "print(t[3:6])\n",
    "print(t[6:3])\n",
    "print(t[2:-3])\n",
    "print(t[-7:6])\n",
    "print(t[-3:-5])\n",
    "print(t[-5:-3])"
   ]
  },
  {
   "cell_type": "code",
   "execution_count": 46,
   "id": "223e6137",
   "metadata": {},
   "outputs": [
    {
     "name": "stdout",
     "output_type": "stream",
     "text": [
      "[23, 56.89, 'Lalitha', '45.012', False, (15+4j), 23, 23]\n",
      "['45.012', False, (15+4j), 23, 23]\n",
      "[23, 56.89, 'Lalitha', '45.012', False]\n",
      "[23, '45.012', 23]\n",
      "['Lalitha', '45.012', False, (15+4j), 23]\n",
      "['Lalitha']\n",
      "[(15+4j)]\n",
      "['Lalitha', '45.012', False]\n",
      "[]\n",
      "[23, 23, (15+4j), False, '45.012', 'Lalitha', 56.89, 23]\n"
     ]
    }
   ],
   "source": [
    "print(t[::])\n",
    "print(t[3::])\n",
    "print(t[:5:])\n",
    "print(t[::3])\n",
    "print(t[2:7:])\n",
    "print(t[2:-5:])\n",
    "print(t[-3:6:])\n",
    "print(t[-6:-3:])\n",
    "print(t[2:5:-1])\n",
    "print(t[::-1])"
   ]
  },
  {
   "cell_type": "code",
   "execution_count": 47,
   "id": "16504f62",
   "metadata": {},
   "outputs": [
    {
     "name": "stdout",
     "output_type": "stream",
     "text": [
      "['__abs__', '__add__', '__and__', '__bool__', '__ceil__', '__class__', '__delattr__', '__dir__', '__divmod__', '__doc__', '__eq__', '__float__', '__floor__', '__floordiv__', '__format__', '__ge__', '__getattribute__', '__getnewargs__', '__gt__', '__hash__', '__index__', '__init__', '__init_subclass__', '__int__', '__invert__', '__le__', '__lshift__', '__lt__', '__mod__', '__mul__', '__ne__', '__neg__', '__new__', '__or__', '__pos__', '__pow__', '__radd__', '__rand__', '__rdivmod__', '__reduce__', '__reduce_ex__', '__repr__', '__rfloordiv__', '__rlshift__', '__rmod__', '__rmul__', '__ror__', '__round__', '__rpow__', '__rrshift__', '__rshift__', '__rsub__', '__rtruediv__', '__rxor__', '__setattr__', '__sizeof__', '__str__', '__sub__', '__subclasshook__', '__truediv__', '__trunc__', '__xor__', 'as_integer_ratio', 'bit_length', 'conjugate', 'denominator', 'from_bytes', 'imag', 'numerator', 'real', 'to_bytes']\n"
     ]
    }
   ],
   "source": [
    "print(dir(int))"
   ]
  },
  {
   "cell_type": "code",
   "execution_count": 48,
   "id": "a685ed89",
   "metadata": {},
   "outputs": [
    {
     "name": "stdout",
     "output_type": "stream",
     "text": [
      "int([x]) -> integer\n",
      "int(x, base=10) -> integer\n",
      "\n",
      "Convert a number or string to an integer, or return 0 if no arguments\n",
      "are given.  If x is a number, return x.__int__().  For floating point\n",
      "numbers, this truncates towards zero.\n",
      "\n",
      "If x is not a number or if base is given, then x must be a string,\n",
      "bytes, or bytearray instance representing an integer literal in the\n",
      "given base.  The literal can be preceded by '+' or '-' and be surrounded\n",
      "by whitespace.  The base defaults to 10.  Valid bases are 0 and 2-36.\n",
      "Base 0 means to interpret the base from the string as an integer literal.\n",
      ">>> int('0b100', base=0)\n",
      "4\n"
     ]
    }
   ],
   "source": [
    "print(int.__doc__)"
   ]
  },
  {
   "cell_type": "code",
   "execution_count": 49,
   "id": "96cbf97f",
   "metadata": {},
   "outputs": [
    {
     "name": "stdout",
     "output_type": "stream",
     "text": [
      "Built-in mutable sequence.\n",
      "\n",
      "If no argument is given, the constructor creates a new empty list.\n",
      "The argument must be an iterable if specified.\n"
     ]
    }
   ],
   "source": [
    "print(list.__doc__)"
   ]
  },
  {
   "cell_type": "code",
   "execution_count": 51,
   "id": "f2460da2",
   "metadata": {},
   "outputs": [
    {
     "name": "stdout",
     "output_type": "stream",
     "text": [
      "['__add__', '__class__', '__class_getitem__', '__contains__', '__delattr__', '__delitem__', '__dir__', '__doc__', '__eq__', '__format__', '__ge__', '__getattribute__', '__getitem__', '__gt__', '__hash__', '__iadd__', '__imul__', '__init__', '__init_subclass__', '__iter__', '__le__', '__len__', '__lt__', '__mul__', '__ne__', '__new__', '__reduce__', '__reduce_ex__', '__repr__', '__reversed__', '__rmul__', '__setattr__', '__setitem__', '__sizeof__', '__str__', '__subclasshook__', 'append', 'clear', 'copy', 'count', 'extend', 'index', 'insert', 'pop', 'remove', 'reverse', 'sort']\n"
     ]
    }
   ],
   "source": [
    "print(dir(list))"
   ]
  },
  {
   "cell_type": "code",
   "execution_count": 53,
   "id": "05f94b42",
   "metadata": {},
   "outputs": [
    {
     "name": "stdout",
     "output_type": "stream",
     "text": [
      "[45]\n",
      "[45, '78']\n"
     ]
    }
   ],
   "source": [
    "k = [45]\n",
    "print(k)\n",
    "k.append('78')\n",
    "print(k)"
   ]
  },
  {
   "cell_type": "code",
   "execution_count": 54,
   "id": "3e6dbc51",
   "metadata": {},
   "outputs": [
    {
     "name": "stdout",
     "output_type": "stream",
     "text": [
      "[45, '78']\n"
     ]
    },
    {
     "ename": "TypeError",
     "evalue": "list.append() takes exactly one argument (2 given)",
     "output_type": "error",
     "traceback": [
      "\u001b[1;31m---------------------------------------------------------------------------\u001b[0m",
      "\u001b[1;31mTypeError\u001b[0m                                 Traceback (most recent call last)",
      "Cell \u001b[1;32mIn[54], line 2\u001b[0m\n\u001b[0;32m      1\u001b[0m \u001b[38;5;28mprint\u001b[39m(k)\n\u001b[1;32m----> 2\u001b[0m \u001b[43mk\u001b[49m\u001b[38;5;241;43m.\u001b[39;49m\u001b[43mappend\u001b[49m\u001b[43m(\u001b[49m\u001b[38;5;241;43m45\u001b[39;49m\u001b[43m,\u001b[49m\u001b[38;5;241;43m12\u001b[39;49m\u001b[43m)\u001b[49m\n\u001b[0;32m      3\u001b[0m \u001b[38;5;28mprint\u001b[39m(k)\n",
      "\u001b[1;31mTypeError\u001b[0m: list.append() takes exactly one argument (2 given)"
     ]
    }
   ],
   "source": [
    "print(k)\n",
    "k.append(45,12)\n",
    "print(k)"
   ]
  },
  {
   "cell_type": "code",
   "execution_count": 55,
   "id": "5fc6554a",
   "metadata": {},
   "outputs": [
    {
     "name": "stdout",
     "output_type": "stream",
     "text": [
      "[45, '78']\n",
      "[45, '78', [12, 'Tarun', False]]\n"
     ]
    }
   ],
   "source": [
    "print(k)\n",
    "k.append([12,'Tarun',False])\n",
    "print(k)"
   ]
  },
  {
   "cell_type": "code",
   "execution_count": 56,
   "id": "ee8e7240",
   "metadata": {},
   "outputs": [
    {
     "name": "stdout",
     "output_type": "stream",
     "text": [
      "[45, '78', [12, 'Tarun', False]]\n",
      "[45, '78', [12, 'Tarun', False], (13, 'Teja', True)]\n"
     ]
    }
   ],
   "source": [
    "print(k)\n",
    "k.append((13,'Teja',True))\n",
    "print(k)"
   ]
  },
  {
   "cell_type": "code",
   "execution_count": 57,
   "id": "284af24c",
   "metadata": {},
   "outputs": [
    {
     "name": "stdout",
     "output_type": "stream",
     "text": [
      "[45, '78', [12, 'Tarun', False], (13, 'Teja', True)]\n",
      "[45, '78', [12, 'Tarun', False], (13, 'Teja', True), {'Tilak', 22}]\n"
     ]
    }
   ],
   "source": [
    "print(k)\n",
    "k.append({22,'Tilak'})\n",
    "print(k)"
   ]
  },
  {
   "cell_type": "code",
   "execution_count": 58,
   "id": "75c0f406",
   "metadata": {},
   "outputs": [
    {
     "name": "stdout",
     "output_type": "stream",
     "text": [
      "[45, '78', [12, 'Tarun', False], (13, 'Teja', True), {'Tilak', 22}]\n",
      "[45, '78', [12, 'Tarun', False], (13, 'Teja', True), {'Tilak', 22}, 'Tarun is good at teaching']\n"
     ]
    }
   ],
   "source": [
    "print(k)\n",
    "k.append('Tarun is good at teaching')\n",
    "print(k)"
   ]
  },
  {
   "cell_type": "code",
   "execution_count": 60,
   "id": "3b5b61fd",
   "metadata": {},
   "outputs": [
    {
     "name": "stdout",
     "output_type": "stream",
     "text": [
      "[45, '78', [12, 'Tarun', False], (13, 'Teja', True), {'Tilak', 22}, 'Tarun is good at teaching']\n",
      "[45, '78', [12, 'Tarun', False], (13, 'Teja', True), {'Tilak', 22}, 'Tarun is good at teaching', {'sno': 12, 'name': 'Tarun', 'User': False}]\n"
     ]
    }
   ],
   "source": [
    "print(k)\n",
    "k.append({\"sno\":12,\"name\":'Tarun',\"User\":False})\n",
    "print(k)"
   ]
  },
  {
   "cell_type": "code",
   "execution_count": 61,
   "id": "1468a4e4",
   "metadata": {},
   "outputs": [
    {
     "name": "stdout",
     "output_type": "stream",
     "text": [
      "[89.012]\n"
     ]
    },
    {
     "ename": "TypeError",
     "evalue": "'int' object is not iterable",
     "output_type": "error",
     "traceback": [
      "\u001b[1;31m---------------------------------------------------------------------------\u001b[0m",
      "\u001b[1;31mTypeError\u001b[0m                                 Traceback (most recent call last)",
      "Cell \u001b[1;32mIn[61], line 3\u001b[0m\n\u001b[0;32m      1\u001b[0m m \u001b[38;5;241m=\u001b[39m [\u001b[38;5;241m89.012\u001b[39m]\n\u001b[0;32m      2\u001b[0m \u001b[38;5;28mprint\u001b[39m(m)\n\u001b[1;32m----> 3\u001b[0m \u001b[43mm\u001b[49m\u001b[38;5;241;43m.\u001b[39;49m\u001b[43mextend\u001b[49m\u001b[43m(\u001b[49m\u001b[38;5;241;43m45\u001b[39;49m\u001b[43m)\u001b[49m\n\u001b[0;32m      4\u001b[0m \u001b[38;5;28mprint\u001b[39m(m)\n",
      "\u001b[1;31mTypeError\u001b[0m: 'int' object is not iterable"
     ]
    }
   ],
   "source": [
    "m = [89.012]\n",
    "print(m)\n",
    "m.extend(45)\n",
    "print(m)"
   ]
  },
  {
   "cell_type": "code",
   "execution_count": 62,
   "id": "8382953d",
   "metadata": {},
   "outputs": [
    {
     "name": "stdout",
     "output_type": "stream",
     "text": [
      "[89.012]\n",
      "[89.012, 56, 12, 'Kiran']\n"
     ]
    }
   ],
   "source": [
    "print(m)\n",
    "m.extend([56,12,'Kiran'])\n",
    "print(m)"
   ]
  },
  {
   "cell_type": "code",
   "execution_count": 64,
   "id": "e901316d",
   "metadata": {},
   "outputs": [
    {
     "name": "stdout",
     "output_type": "stream",
     "text": [
      "[89.012, 56, 12, 'Kiran']\n",
      "[89.012, 56, 12, 'Kiran', 50, 125, 'Kiran Kumar']\n"
     ]
    }
   ],
   "source": [
    "print(m)\n",
    "m.extend((50,125,'Kiran Kumar'))\n",
    "print(m)"
   ]
  },
  {
   "cell_type": "code",
   "execution_count": 65,
   "id": "0aeccd02",
   "metadata": {},
   "outputs": [
    {
     "name": "stdout",
     "output_type": "stream",
     "text": [
      "[89.012, 56, 12, 'Kiran', 50, 125, 'Kiran Kumar']\n",
      "[89.012, 56, 12, 'Kiran', 50, 125, 'Kiran Kumar', 56, 1258, 'Kiran K']\n"
     ]
    }
   ],
   "source": [
    "print(m)\n",
    "m.extend({56,1258,'Kiran K'})\n",
    "print(m)"
   ]
  },
  {
   "cell_type": "code",
   "execution_count": 66,
   "id": "da684b93",
   "metadata": {},
   "outputs": [
    {
     "name": "stdout",
     "output_type": "stream",
     "text": [
      "[12, 56]\n"
     ]
    },
    {
     "ename": "TypeError",
     "evalue": "insert expected 2 arguments, got 0",
     "output_type": "error",
     "traceback": [
      "\u001b[1;31m---------------------------------------------------------------------------\u001b[0m",
      "\u001b[1;31mTypeError\u001b[0m                                 Traceback (most recent call last)",
      "Cell \u001b[1;32mIn[66], line 3\u001b[0m\n\u001b[0;32m      1\u001b[0m h \u001b[38;5;241m=\u001b[39m [\u001b[38;5;241m12\u001b[39m,\u001b[38;5;241m56\u001b[39m]\n\u001b[0;32m      2\u001b[0m \u001b[38;5;28mprint\u001b[39m(h)\n\u001b[1;32m----> 3\u001b[0m \u001b[43mh\u001b[49m\u001b[38;5;241;43m.\u001b[39;49m\u001b[43minsert\u001b[49m\u001b[43m(\u001b[49m\u001b[43m)\u001b[49m\n",
      "\u001b[1;31mTypeError\u001b[0m: insert expected 2 arguments, got 0"
     ]
    }
   ],
   "source": [
    "h = [12,56]\n",
    "print(h)\n",
    "h.insert()"
   ]
  },
  {
   "cell_type": "code",
   "execution_count": 67,
   "id": "feeac473",
   "metadata": {},
   "outputs": [
    {
     "name": "stdout",
     "output_type": "stream",
     "text": [
      "[12, 56]\n",
      "['Rajesh', 12, 56]\n"
     ]
    }
   ],
   "source": [
    "print(h)\n",
    "h.insert(0,\"Rajesh\")\n",
    "print(h)"
   ]
  },
  {
   "cell_type": "code",
   "execution_count": 68,
   "id": "64a799ac",
   "metadata": {},
   "outputs": [
    {
     "name": "stdout",
     "output_type": "stream",
     "text": [
      "['Rajesh', 12, 56]\n",
      "['Rajesh', 12, 56, 'Rajeshwari']\n"
     ]
    }
   ],
   "source": [
    "print(h)\n",
    "h.insert(10,\"Rajeshwari\")\n",
    "print(h)"
   ]
  },
  {
   "cell_type": "code",
   "execution_count": 69,
   "id": "36f913d8",
   "metadata": {},
   "outputs": [
    {
     "name": "stdout",
     "output_type": "stream",
     "text": [
      "['Rajesh', 12, 56, 'Rajeshwari']\n",
      "[[45, 23], 'Rajesh', 12, 56, 'Rajeshwari']\n"
     ]
    }
   ],
   "source": [
    "print(h)\n",
    "h.insert(0,[45,23])\n",
    "print(h)"
   ]
  },
  {
   "cell_type": "code",
   "execution_count": 70,
   "id": "c431f02f",
   "metadata": {},
   "outputs": [
    {
     "name": "stdout",
     "output_type": "stream",
     "text": [
      "[12, 78, 56, 45, 889]\n",
      "[12, 78, 56, 45]\n"
     ]
    }
   ],
   "source": [
    "j = [12,78,56,45,889]\n",
    "print(j)\n",
    "j.pop()\n",
    "print(j)"
   ]
  },
  {
   "cell_type": "code",
   "execution_count": 71,
   "id": "2772f981",
   "metadata": {},
   "outputs": [
    {
     "name": "stdout",
     "output_type": "stream",
     "text": [
      "[12, 78, 56, 45]\n",
      "[12, 56, 45]\n"
     ]
    }
   ],
   "source": [
    "print(j)\n",
    "j.pop(1)\n",
    "print(j)"
   ]
  },
  {
   "cell_type": "code",
   "execution_count": 72,
   "id": "fb0dee5f",
   "metadata": {},
   "outputs": [
    {
     "name": "stdout",
     "output_type": "stream",
     "text": [
      "[12, 56, 45]\n"
     ]
    },
    {
     "ename": "IndexError",
     "evalue": "pop index out of range",
     "output_type": "error",
     "traceback": [
      "\u001b[1;31m---------------------------------------------------------------------------\u001b[0m",
      "\u001b[1;31mIndexError\u001b[0m                                Traceback (most recent call last)",
      "Cell \u001b[1;32mIn[72], line 2\u001b[0m\n\u001b[0;32m      1\u001b[0m \u001b[38;5;28mprint\u001b[39m(j)\n\u001b[1;32m----> 2\u001b[0m \u001b[43mj\u001b[49m\u001b[38;5;241;43m.\u001b[39;49m\u001b[43mpop\u001b[49m\u001b[43m(\u001b[49m\u001b[38;5;241;43m5\u001b[39;49m\u001b[43m)\u001b[49m\n\u001b[0;32m      3\u001b[0m \u001b[38;5;28mprint\u001b[39m(j)\n",
      "\u001b[1;31mIndexError\u001b[0m: pop index out of range"
     ]
    }
   ],
   "source": [
    "print(j)\n",
    "j.pop(5)\n",
    "print(j)"
   ]
  },
  {
   "cell_type": "code",
   "execution_count": 73,
   "id": "f3098e39",
   "metadata": {},
   "outputs": [
    {
     "name": "stdout",
     "output_type": "stream",
     "text": [
      "[12, 56, 45]\n"
     ]
    },
    {
     "ename": "TypeError",
     "evalue": "list.remove() takes exactly one argument (0 given)",
     "output_type": "error",
     "traceback": [
      "\u001b[1;31m---------------------------------------------------------------------------\u001b[0m",
      "\u001b[1;31mTypeError\u001b[0m                                 Traceback (most recent call last)",
      "Cell \u001b[1;32mIn[73], line 2\u001b[0m\n\u001b[0;32m      1\u001b[0m \u001b[38;5;28mprint\u001b[39m(j)\n\u001b[1;32m----> 2\u001b[0m \u001b[43mj\u001b[49m\u001b[38;5;241;43m.\u001b[39;49m\u001b[43mremove\u001b[49m\u001b[43m(\u001b[49m\u001b[43m)\u001b[49m\n\u001b[0;32m      3\u001b[0m \u001b[38;5;28mprint\u001b[39m(j)\n",
      "\u001b[1;31mTypeError\u001b[0m: list.remove() takes exactly one argument (0 given)"
     ]
    }
   ],
   "source": [
    "print(j)\n",
    "j.remove()\n",
    "print(j)"
   ]
  },
  {
   "cell_type": "code",
   "execution_count": 74,
   "id": "1a320fd8",
   "metadata": {},
   "outputs": [
    {
     "name": "stdout",
     "output_type": "stream",
     "text": [
      "[12, 56, 45]\n",
      "[12, 45]\n"
     ]
    }
   ],
   "source": [
    "print(j)\n",
    "j.remove(56)\n",
    "print(j)"
   ]
  },
  {
   "cell_type": "code",
   "execution_count": 75,
   "id": "9f64b830",
   "metadata": {},
   "outputs": [
    {
     "name": "stdout",
     "output_type": "stream",
     "text": [
      "[12, 45]\n"
     ]
    },
    {
     "ename": "ValueError",
     "evalue": "list.remove(x): x not in list",
     "output_type": "error",
     "traceback": [
      "\u001b[1;31m---------------------------------------------------------------------------\u001b[0m",
      "\u001b[1;31mValueError\u001b[0m                                Traceback (most recent call last)",
      "Cell \u001b[1;32mIn[75], line 2\u001b[0m\n\u001b[0;32m      1\u001b[0m \u001b[38;5;28mprint\u001b[39m(j)\n\u001b[1;32m----> 2\u001b[0m \u001b[43mj\u001b[49m\u001b[38;5;241;43m.\u001b[39;49m\u001b[43mremove\u001b[49m\u001b[43m(\u001b[49m\u001b[38;5;241;43m100\u001b[39;49m\u001b[43m)\u001b[49m\n\u001b[0;32m      3\u001b[0m \u001b[38;5;28mprint\u001b[39m(j)\n",
      "\u001b[1;31mValueError\u001b[0m: list.remove(x): x not in list"
     ]
    }
   ],
   "source": [
    "print(j)\n",
    "j.remove(100)\n",
    "print(j)"
   ]
  },
  {
   "cell_type": "code",
   "execution_count": 76,
   "id": "fa102811",
   "metadata": {},
   "outputs": [
    {
     "name": "stdout",
     "output_type": "stream",
     "text": [
      "[100, 45, 15, 19, 78]\n",
      "[100, 45, 15, 19, 78]\n"
     ]
    }
   ],
   "source": [
    "k = [100,45,15,19,78]\n",
    "print(k)\n",
    "n = k.copy()\n",
    "print(n)"
   ]
  },
  {
   "cell_type": "code",
   "execution_count": 78,
   "id": "c7302921",
   "metadata": {},
   "outputs": [
    {
     "name": "stdout",
     "output_type": "stream",
     "text": [
      "[100, 45, 15, 19]\n",
      "[100, 45, 15, 19, 78]\n",
      "[100, 45, 15]\n",
      "[]\n"
     ]
    }
   ],
   "source": [
    "print(n)\n",
    "n.pop()\n",
    "print(k)\n",
    "print(n)\n",
    "n.clear()\n",
    "print(n)"
   ]
  },
  {
   "cell_type": "code",
   "execution_count": 79,
   "id": "83e7f15c",
   "metadata": {},
   "outputs": [
    {
     "name": "stdout",
     "output_type": "stream",
     "text": [
      "[1, 8, 9, 1, 8, 92, 2, 5, 6]\n",
      "1\n",
      "0\n",
      "2\n"
     ]
    }
   ],
   "source": [
    "b = [1,8,9,1,8,92,2,5,6]\n",
    "print(b)\n",
    "print(b.count(6))\n",
    "print(b.count(100))\n",
    "print(b.count(1))"
   ]
  },
  {
   "cell_type": "code",
   "execution_count": 80,
   "id": "69896999",
   "metadata": {},
   "outputs": [
    {
     "name": "stdout",
     "output_type": "stream",
     "text": [
      "[12, 89, 'Lavanya', (9+5j), False]\n",
      "[False, (9+5j), 'Lavanya', 89, 12]\n"
     ]
    }
   ],
   "source": [
    "y = [12,89,'Lavanya',9+5j,False]\n",
    "print(y)\n",
    "y.reverse()\n",
    "print(y)"
   ]
  },
  {
   "cell_type": "code",
   "execution_count": 81,
   "id": "27dc8d30",
   "metadata": {},
   "outputs": [
    {
     "name": "stdout",
     "output_type": "stream",
     "text": [
      "[12, 0, 56, 158, 33, 89]\n",
      "[0, 12, 33, 56, 89, 158]\n"
     ]
    }
   ],
   "source": [
    "z = [12,0,56,158,33,89]\n",
    "print(z)\n",
    "z.sort()\n",
    "print(z)"
   ]
  },
  {
   "cell_type": "code",
   "execution_count": 82,
   "id": "b9411217",
   "metadata": {},
   "outputs": [
    {
     "name": "stdout",
     "output_type": "stream",
     "text": [
      "[45, 89, 23, 0, 56]\n",
      "[89, 56, 45, 23, 0]\n"
     ]
    }
   ],
   "source": [
    "p = [45,89,23,0,56]\n",
    "print(p)\n",
    "p.sort(reverse=True)\n",
    "print(p)"
   ]
  },
  {
   "cell_type": "code",
   "execution_count": 83,
   "id": "08c572cc",
   "metadata": {},
   "outputs": [
    {
     "name": "stdout",
     "output_type": "stream",
     "text": [
      "[12, 78, 89, 568]\n",
      "1\n"
     ]
    },
    {
     "ename": "ValueError",
     "evalue": "788 is not in list",
     "output_type": "error",
     "traceback": [
      "\u001b[1;31m---------------------------------------------------------------------------\u001b[0m",
      "\u001b[1;31mValueError\u001b[0m                                Traceback (most recent call last)",
      "Cell \u001b[1;32mIn[83], line 4\u001b[0m\n\u001b[0;32m      2\u001b[0m \u001b[38;5;28mprint\u001b[39m(b)\n\u001b[0;32m      3\u001b[0m \u001b[38;5;28mprint\u001b[39m(b\u001b[38;5;241m.\u001b[39mindex(\u001b[38;5;241m78\u001b[39m))\n\u001b[1;32m----> 4\u001b[0m \u001b[38;5;28mprint\u001b[39m(\u001b[43mb\u001b[49m\u001b[38;5;241;43m.\u001b[39;49m\u001b[43mindex\u001b[49m\u001b[43m(\u001b[49m\u001b[38;5;241;43m788\u001b[39;49m\u001b[43m)\u001b[49m)\n",
      "\u001b[1;31mValueError\u001b[0m: 788 is not in list"
     ]
    }
   ],
   "source": [
    "b = [12,78,89,568]\n",
    "print(b)\n",
    "print(b.index(78))\n",
    "print(b.index(788))"
   ]
  },
  {
   "cell_type": "code",
   "execution_count": 84,
   "id": "0cd87df5",
   "metadata": {},
   "outputs": [
    {
     "name": "stdout",
     "output_type": "stream",
     "text": [
      "[78, 569]\n"
     ]
    },
    {
     "ename": "NameError",
     "evalue": "name 'a' is not defined",
     "output_type": "error",
     "traceback": [
      "\u001b[1;31m---------------------------------------------------------------------------\u001b[0m",
      "\u001b[1;31mNameError\u001b[0m                                 Traceback (most recent call last)",
      "Cell \u001b[1;32mIn[84], line 4\u001b[0m\n\u001b[0;32m      2\u001b[0m \u001b[38;5;28mprint\u001b[39m(a)\n\u001b[0;32m      3\u001b[0m \u001b[38;5;28;01mdel\u001b[39;00m a\n\u001b[1;32m----> 4\u001b[0m \u001b[38;5;28mprint\u001b[39m(\u001b[43ma\u001b[49m)\n",
      "\u001b[1;31mNameError\u001b[0m: name 'a' is not defined"
     ]
    }
   ],
   "source": [
    "a = [78,569]\n",
    "print(a)\n",
    "del a\n",
    "print(a)"
   ]
  },
  {
   "cell_type": "markdown",
   "id": "ae75ce55",
   "metadata": {},
   "source": [
    "## Tuple:\n",
    "    - It can be represented as \"()\"\n",
    "    - It stores all data type elements with \",\" seperation\n",
    "    - It allows duplicate elements\n",
    "    - It cant changes a value\n",
    "    - It stores data in order format\n",
    "    - It can be typecasted as tuple()\n",
    "    - Slicing can be done because of index"
   ]
  },
  {
   "cell_type": "code",
   "execution_count": 86,
   "id": "33c4e094",
   "metadata": {},
   "outputs": [
    {
     "name": "stdout",
     "output_type": "stream",
     "text": [
      "(45, 56.012, 'kiran', (67+6j), True, None, 45) <class 'tuple'>\n"
     ]
    }
   ],
   "source": [
    "j = (45,56.012,\"kiran\",67+6j,True,None,45)\n",
    "print(j,type(j))"
   ]
  },
  {
   "cell_type": "code",
   "execution_count": 87,
   "id": "3648adba",
   "metadata": {},
   "outputs": [
    {
     "name": "stdout",
     "output_type": "stream",
     "text": [
      "0 45\n",
      "1 56.012\n",
      "2 kiran\n",
      "3 (67+6j)\n",
      "4 True\n",
      "5 None\n",
      "6 45\n"
     ]
    }
   ],
   "source": [
    "for i in range(len(j)):\n",
    "    print(i,j[i])"
   ]
  },
  {
   "cell_type": "code",
   "execution_count": 88,
   "id": "7e309782",
   "metadata": {},
   "outputs": [
    {
     "name": "stdout",
     "output_type": "stream",
     "text": [
      "45\n",
      "56.012\n",
      "kiran\n",
      "(67+6j)\n",
      "True\n",
      "None\n",
      "45\n"
     ]
    }
   ],
   "source": [
    "for i in j:\n",
    "    print(i)"
   ]
  },
  {
   "cell_type": "code",
   "execution_count": 90,
   "id": "80d2724e",
   "metadata": {},
   "outputs": [
    {
     "name": "stdout",
     "output_type": "stream",
     "text": [
      "(12, 78, 56, 89, 45, 158)\n",
      "158\n",
      "(56, 89, 45, 158)\n",
      "(158, 45, 89, 56, 78, 12)\n"
     ]
    }
   ],
   "source": [
    "v = (12,78,56,89,45,158)\n",
    "print(v)\n",
    "print(v[5])\n",
    "print(v[2:6])\n",
    "print(v[::-1])"
   ]
  },
  {
   "cell_type": "code",
   "execution_count": 89,
   "id": "2896e298",
   "metadata": {},
   "outputs": [
    {
     "name": "stdout",
     "output_type": "stream",
     "text": [
      "['__add__', '__class__', '__class_getitem__', '__contains__', '__delattr__', '__dir__', '__doc__', '__eq__', '__format__', '__ge__', '__getattribute__', '__getitem__', '__getnewargs__', '__gt__', '__hash__', '__init__', '__init_subclass__', '__iter__', '__le__', '__len__', '__lt__', '__mul__', '__ne__', '__new__', '__reduce__', '__reduce_ex__', '__repr__', '__rmul__', '__setattr__', '__sizeof__', '__str__', '__subclasshook__', 'count', 'index']\n"
     ]
    }
   ],
   "source": [
    "print(dir(tuple))"
   ]
  },
  {
   "cell_type": "code",
   "execution_count": 91,
   "id": "68f8939b",
   "metadata": {},
   "outputs": [
    {
     "name": "stdout",
     "output_type": "stream",
     "text": [
      "(45, 78, 56, 89, 45)\n",
      "1\n",
      "0\n"
     ]
    }
   ],
   "source": [
    "g = (45,78,56,89,45)\n",
    "print(g)\n",
    "print(g.count(56))\n",
    "print(g.count(-200))"
   ]
  },
  {
   "cell_type": "code",
   "execution_count": 92,
   "id": "98eb0005",
   "metadata": {},
   "outputs": [
    {
     "name": "stdout",
     "output_type": "stream",
     "text": [
      "(45, 78, 56, 89, 45)\n",
      "2\n"
     ]
    }
   ],
   "source": [
    "print(g)\n",
    "print(g.index(56))"
   ]
  },
  {
   "cell_type": "code",
   "execution_count": 93,
   "id": "40b3cfe9",
   "metadata": {},
   "outputs": [
    {
     "name": "stdout",
     "output_type": "stream",
     "text": [
      "(45, 78, 56, 89, 45)\n"
     ]
    },
    {
     "ename": "ValueError",
     "evalue": "tuple.index(x): x not in tuple",
     "output_type": "error",
     "traceback": [
      "\u001b[1;31m---------------------------------------------------------------------------\u001b[0m",
      "\u001b[1;31mValueError\u001b[0m                                Traceback (most recent call last)",
      "Cell \u001b[1;32mIn[93], line 2\u001b[0m\n\u001b[0;32m      1\u001b[0m \u001b[38;5;28mprint\u001b[39m(g)\n\u001b[1;32m----> 2\u001b[0m \u001b[38;5;28mprint\u001b[39m(\u001b[43mg\u001b[49m\u001b[38;5;241;43m.\u001b[39;49m\u001b[43mindex\u001b[49m\u001b[43m(\u001b[49m\u001b[38;5;241;43m-\u001b[39;49m\u001b[38;5;241;43m500\u001b[39;49m\u001b[43m)\u001b[49m)\n",
      "\u001b[1;31mValueError\u001b[0m: tuple.index(x): x not in tuple"
     ]
    }
   ],
   "source": [
    "print(g)\n",
    "print(g.index(-500))"
   ]
  },
  {
   "cell_type": "code",
   "execution_count": 94,
   "id": "ad89a9dc",
   "metadata": {},
   "outputs": [
    {
     "name": "stdout",
     "output_type": "stream",
     "text": [
      "() <class 'tuple'>\n"
     ]
    }
   ],
   "source": [
    "h = tuple()\n",
    "print(h,type(h))"
   ]
  },
  {
   "cell_type": "code",
   "execution_count": 95,
   "id": "7079b94f",
   "metadata": {},
   "outputs": [
    {
     "name": "stdout",
     "output_type": "stream",
     "text": [
      "() <class 'tuple'>\n"
     ]
    }
   ],
   "source": [
    "k = ()\n",
    "print(k,type(k))"
   ]
  },
  {
   "cell_type": "code",
   "execution_count": 100,
   "id": "25796baa",
   "metadata": {},
   "outputs": [
    {
     "name": "stdout",
     "output_type": "stream",
     "text": [
      "(45, 89) <class 'tuple'>\n",
      "[45, 89] <class 'list'>\n",
      "Enter a value: 650\n",
      "(650, 45, 89) <class 'tuple'>\n"
     ]
    }
   ],
   "source": [
    "s = (45,89)\n",
    "k = list(s)\n",
    "print(s,type(s))\n",
    "print(k,type(k))\n",
    "z = int(input(\"Enter a value: \"))\n",
    "k.insert(0,z)\n",
    "v = tuple(k)\n",
    "print(v,type(v))"
   ]
  },
  {
   "cell_type": "markdown",
   "id": "b09bec75",
   "metadata": {},
   "source": [
    "## Dictionary:\n",
    "    - It stores the data in key and value pairs seperated with \",\"\n",
    "    - Duplicate values can be accessed but not for keys\n",
    "    - Slicing can be done for values but not for keys\n",
    "    - values can be changes\n",
    "    - It can be typecasted as dict()\n",
    "    - It stores data in order format"
   ]
  },
  {
   "cell_type": "code",
   "execution_count": 101,
   "id": "9f1740d1",
   "metadata": {},
   "outputs": [
    {
     "name": "stdout",
     "output_type": "stream",
     "text": [
      "{'45'} <class 'set'>\n",
      "{} <class 'dict'>\n"
     ]
    }
   ],
   "source": [
    "g = {'45'}\n",
    "c = {}\n",
    "print(g,type(g))\n",
    "print(c,type(c))"
   ]
  },
  {
   "cell_type": "code",
   "execution_count": 103,
   "id": "bc4d713f",
   "metadata": {},
   "outputs": [
    {
     "name": "stdout",
     "output_type": "stream",
     "text": [
      "{'sno': [12, 13, 14, 15, 14], 'name': 'Rajesh'} <class 'dict'>\n"
     ]
    }
   ],
   "source": [
    "z = {'sno':[12,13,14,15,14],'name':('kiran','kavitha'),'name':'Rajesh'}\n",
    "print(z,type(z))"
   ]
  },
  {
   "cell_type": "code",
   "execution_count": 104,
   "id": "646ab6a3",
   "metadata": {},
   "outputs": [
    {
     "name": "stdout",
     "output_type": "stream",
     "text": [
      "sno <class 'str'>\n",
      "name <class 'str'>\n"
     ]
    }
   ],
   "source": [
    "for i in z:\n",
    "    print(i,type(i))"
   ]
  },
  {
   "cell_type": "code",
   "execution_count": 105,
   "id": "16552245",
   "metadata": {},
   "outputs": [
    {
     "name": "stdout",
     "output_type": "stream",
     "text": [
      "('sno', [12, 13, 14, 15, 14]) <class 'tuple'>\n",
      "('name', 'Rajesh') <class 'tuple'>\n"
     ]
    }
   ],
   "source": [
    "for i in z.items():\n",
    "    print(i,type(i))"
   ]
  },
  {
   "cell_type": "code",
   "execution_count": 106,
   "id": "86918f6d",
   "metadata": {},
   "outputs": [
    {
     "name": "stdout",
     "output_type": "stream",
     "text": [
      "sno <class 'str'>\n",
      "name <class 'str'>\n"
     ]
    }
   ],
   "source": [
    "for i in z.keys():\n",
    "    print(i,type(i))"
   ]
  },
  {
   "cell_type": "code",
   "execution_count": 107,
   "id": "4081d087",
   "metadata": {},
   "outputs": [
    {
     "name": "stdout",
     "output_type": "stream",
     "text": [
      "[12, 13, 14, 15, 14] <class 'list'>\n",
      "Rajesh <class 'str'>\n"
     ]
    }
   ],
   "source": [
    "for i in z.values():\n",
    "    print(i,type(i))"
   ]
  },
  {
   "cell_type": "code",
   "execution_count": 108,
   "id": "9c465fbf",
   "metadata": {},
   "outputs": [
    {
     "name": "stdout",
     "output_type": "stream",
     "text": [
      "['__class__', '__class_getitem__', '__contains__', '__delattr__', '__delitem__', '__dir__', '__doc__', '__eq__', '__format__', '__ge__', '__getattribute__', '__getitem__', '__gt__', '__hash__', '__init__', '__init_subclass__', '__ior__', '__iter__', '__le__', '__len__', '__lt__', '__ne__', '__new__', '__or__', '__reduce__', '__reduce_ex__', '__repr__', '__reversed__', '__ror__', '__setattr__', '__setitem__', '__sizeof__', '__str__', '__subclasshook__', 'clear', 'copy', 'fromkeys', 'get', 'items', 'keys', 'pop', 'popitem', 'setdefault', 'update', 'values']\n"
     ]
    }
   ],
   "source": [
    "print(dir(dict))"
   ]
  },
  {
   "cell_type": "code",
   "execution_count": 109,
   "id": "a032d18f",
   "metadata": {},
   "outputs": [
    {
     "name": "stdout",
     "output_type": "stream",
     "text": [
      "dict_keys(['sno', 'name'])\n"
     ]
    }
   ],
   "source": [
    "print(z.keys())"
   ]
  },
  {
   "cell_type": "code",
   "execution_count": 110,
   "id": "b78b1fd0",
   "metadata": {},
   "outputs": [
    {
     "name": "stdout",
     "output_type": "stream",
     "text": [
      "dict_values([[12, 13, 14, 15, 14], 'Rajesh'])\n"
     ]
    }
   ],
   "source": [
    "print(z.values())"
   ]
  },
  {
   "cell_type": "code",
   "execution_count": 111,
   "id": "0c7ef4f8",
   "metadata": {},
   "outputs": [
    {
     "name": "stdout",
     "output_type": "stream",
     "text": [
      "dict_items([('sno', [12, 13, 14, 15, 14]), ('name', 'Rajesh')])\n"
     ]
    }
   ],
   "source": [
    "print(z.items())"
   ]
  },
  {
   "cell_type": "code",
   "execution_count": 112,
   "id": "ba91e9f6",
   "metadata": {},
   "outputs": [
    {
     "name": "stdout",
     "output_type": "stream",
     "text": [
      "[12, 13, 14, 15, 14]\n"
     ]
    }
   ],
   "source": [
    "print(z.get('sno'))"
   ]
  },
  {
   "cell_type": "code",
   "execution_count": 113,
   "id": "79621930",
   "metadata": {},
   "outputs": [
    {
     "name": "stdout",
     "output_type": "stream",
     "text": [
      "Rajesh\n"
     ]
    }
   ],
   "source": [
    "print(z.get('name'))"
   ]
  },
  {
   "cell_type": "code",
   "execution_count": 114,
   "id": "8800c15c",
   "metadata": {},
   "outputs": [
    {
     "name": "stdout",
     "output_type": "stream",
     "text": [
      "None\n"
     ]
    }
   ],
   "source": [
    "print(z.get('Sal'))"
   ]
  },
  {
   "cell_type": "code",
   "execution_count": 115,
   "id": "28910427",
   "metadata": {},
   "outputs": [
    {
     "name": "stdout",
     "output_type": "stream",
     "text": [
      "[12, 13, 14, 15, 14]\n"
     ]
    }
   ],
   "source": [
    "print(z['sno'])"
   ]
  },
  {
   "cell_type": "code",
   "execution_count": 116,
   "id": "3bdcebd8",
   "metadata": {},
   "outputs": [
    {
     "name": "stdout",
     "output_type": "stream",
     "text": [
      "{'sno': 78, 'sname': 'Harish', 'sal': 5000}\n"
     ]
    }
   ],
   "source": [
    "s = {'sno':78,'sname':'Harish','sal':5000}\n",
    "print(s)"
   ]
  },
  {
   "cell_type": "code",
   "execution_count": 117,
   "id": "40a57c09",
   "metadata": {},
   "outputs": [
    {
     "name": "stdout",
     "output_type": "stream",
     "text": [
      "{'sno': 78, 'sname': 'Harish', 'sal': 5000}\n",
      "{'sno': 78, 'sname': 'Harish', 'sal': 5000, 'addr': None}\n"
     ]
    }
   ],
   "source": [
    "print(s)\n",
    "s.setdefault('addr')\n",
    "print(s)"
   ]
  },
  {
   "cell_type": "code",
   "execution_count": 119,
   "id": "0bcaeea7",
   "metadata": {},
   "outputs": [
    {
     "name": "stdout",
     "output_type": "stream",
     "text": [
      "{'sno': 78, 'sname': 'Harish', 'sal': 5000, 'addr': None}\n",
      "{'sno': 78, 'sname': 'Harish', 'sal': 5000, 'addr': None, 'age': 45}\n"
     ]
    }
   ],
   "source": [
    "print(s)\n",
    "s.setdefault('age',45)\n",
    "print(s)"
   ]
  },
  {
   "cell_type": "code",
   "execution_count": 120,
   "id": "2806b4f7",
   "metadata": {},
   "outputs": [
    {
     "name": "stdout",
     "output_type": "stream",
     "text": [
      "{'sno': 78, 'sname': 'Harish', 'sal': 5000, 'addr': None, 'age': 45}\n",
      "{'sno': 78, 'sname': 'Harish', 'sal': 5000, 'addr': 'VJD', 'age': 45}\n"
     ]
    }
   ],
   "source": [
    "print(s)\n",
    "s.update({'addr':'VJD'})\n",
    "print(s)"
   ]
  },
  {
   "cell_type": "code",
   "execution_count": 121,
   "id": "1712d401",
   "metadata": {},
   "outputs": [
    {
     "name": "stdout",
     "output_type": "stream",
     "text": [
      "{'sno': 78, 'sname': 'Harish', 'sal': 5000, 'addr': 'VJD', 'age': 45}\n",
      "{'sno': 78, 'sname': 'Harish', 'sal': 5000, 'addr': 'KDP', 'age': 45}\n"
     ]
    }
   ],
   "source": [
    "print(s)\n",
    "s['addr'] = 'KDP'\n",
    "print(s)"
   ]
  },
  {
   "cell_type": "code",
   "execution_count": 122,
   "id": "1e62e076",
   "metadata": {},
   "outputs": [
    {
     "name": "stdout",
     "output_type": "stream",
     "text": [
      "{'sno': 78, 'sname': 'Harish', 'sal': 5000, 'addr': 'KDP', 'age': 45}\n"
     ]
    },
    {
     "ename": "TypeError",
     "evalue": "pop expected at least 1 argument, got 0",
     "output_type": "error",
     "traceback": [
      "\u001b[1;31m---------------------------------------------------------------------------\u001b[0m",
      "\u001b[1;31mTypeError\u001b[0m                                 Traceback (most recent call last)",
      "Cell \u001b[1;32mIn[122], line 2\u001b[0m\n\u001b[0;32m      1\u001b[0m \u001b[38;5;28mprint\u001b[39m(s)\n\u001b[1;32m----> 2\u001b[0m \u001b[43ms\u001b[49m\u001b[38;5;241;43m.\u001b[39;49m\u001b[43mpop\u001b[49m\u001b[43m(\u001b[49m\u001b[43m)\u001b[49m\n\u001b[0;32m      3\u001b[0m \u001b[38;5;28mprint\u001b[39m(s)\n",
      "\u001b[1;31mTypeError\u001b[0m: pop expected at least 1 argument, got 0"
     ]
    }
   ],
   "source": [
    "print(s)\n",
    "s.pop()\n",
    "print(s)"
   ]
  },
  {
   "cell_type": "code",
   "execution_count": 123,
   "id": "dc82b1a1",
   "metadata": {},
   "outputs": [
    {
     "name": "stdout",
     "output_type": "stream",
     "text": [
      "{'sno': 78, 'sname': 'Harish', 'sal': 5000, 'addr': 'KDP', 'age': 45}\n",
      "{'sno': 78, 'sname': 'Harish', 'sal': 5000, 'age': 45}\n"
     ]
    }
   ],
   "source": [
    "print(s)\n",
    "s.pop('addr')\n",
    "print(s)"
   ]
  },
  {
   "cell_type": "code",
   "execution_count": 124,
   "id": "9bbf969a",
   "metadata": {},
   "outputs": [
    {
     "name": "stdout",
     "output_type": "stream",
     "text": [
      "{'sno': 78, 'sname': 'Harish', 'sal': 5000, 'age': 45}\n",
      "{'sno': 78, 'sname': 'Harish', 'sal': 5000}\n"
     ]
    }
   ],
   "source": [
    "print(s)\n",
    "s.popitem()\n",
    "print(s)"
   ]
  },
  {
   "cell_type": "code",
   "execution_count": 125,
   "id": "2cc21857",
   "metadata": {},
   "outputs": [
    {
     "name": "stdout",
     "output_type": "stream",
     "text": [
      "{'sno': 78, 'sname': 'Harish', 'sal': 5000}\n"
     ]
    },
    {
     "ename": "TypeError",
     "evalue": "dict.popitem() takes no arguments (1 given)",
     "output_type": "error",
     "traceback": [
      "\u001b[1;31m---------------------------------------------------------------------------\u001b[0m",
      "\u001b[1;31mTypeError\u001b[0m                                 Traceback (most recent call last)",
      "Cell \u001b[1;32mIn[125], line 2\u001b[0m\n\u001b[0;32m      1\u001b[0m \u001b[38;5;28mprint\u001b[39m(s)\n\u001b[1;32m----> 2\u001b[0m \u001b[43ms\u001b[49m\u001b[38;5;241;43m.\u001b[39;49m\u001b[43mpopitem\u001b[49m\u001b[43m(\u001b[49m\u001b[38;5;124;43m'\u001b[39;49m\u001b[38;5;124;43msname\u001b[39;49m\u001b[38;5;124;43m'\u001b[39;49m\u001b[43m)\u001b[49m\n\u001b[0;32m      3\u001b[0m \u001b[38;5;28mprint\u001b[39m(s)\n",
      "\u001b[1;31mTypeError\u001b[0m: dict.popitem() takes no arguments (1 given)"
     ]
    }
   ],
   "source": [
    "print(s)\n",
    "s.popitem('sname')\n",
    "print(s)"
   ]
  },
  {
   "cell_type": "code",
   "execution_count": 127,
   "id": "ba36b668",
   "metadata": {},
   "outputs": [
    {
     "name": "stdout",
     "output_type": "stream",
     "text": [
      "{'sno': 78, 'sname': 'Harish', 'sal': 5000}\n"
     ]
    },
    {
     "ename": "KeyError",
     "evalue": "'loc'",
     "output_type": "error",
     "traceback": [
      "\u001b[1;31m---------------------------------------------------------------------------\u001b[0m",
      "\u001b[1;31mKeyError\u001b[0m                                  Traceback (most recent call last)",
      "Cell \u001b[1;32mIn[127], line 2\u001b[0m\n\u001b[0;32m      1\u001b[0m \u001b[38;5;28mprint\u001b[39m(s)\n\u001b[1;32m----> 2\u001b[0m \u001b[43ms\u001b[49m\u001b[38;5;241;43m.\u001b[39;49m\u001b[43mpop\u001b[49m\u001b[43m(\u001b[49m\u001b[38;5;124;43m'\u001b[39;49m\u001b[38;5;124;43mloc\u001b[39;49m\u001b[38;5;124;43m'\u001b[39;49m\u001b[43m)\u001b[49m\n\u001b[0;32m      3\u001b[0m \u001b[38;5;28mprint\u001b[39m(s)\n",
      "\u001b[1;31mKeyError\u001b[0m: 'loc'"
     ]
    }
   ],
   "source": [
    "print(s)\n",
    "s.pop('loc')\n",
    "print(s)"
   ]
  },
  {
   "cell_type": "code",
   "execution_count": 128,
   "id": "ef047d12",
   "metadata": {},
   "outputs": [
    {
     "name": "stdout",
     "output_type": "stream",
     "text": [
      "{12: None, 78: None, 2: None}\n"
     ]
    }
   ],
   "source": [
    "h = [12,78,2]\n",
    "w = {}\n",
    "w = w.fromkeys(h)\n",
    "print(w)"
   ]
  },
  {
   "cell_type": "markdown",
   "id": "4eba58c6",
   "metadata": {},
   "source": [
    "## Set:\n",
    "    - It can be represented as \"{}\" with single value in it\n",
    "    - It doesnt allows duplicate elements\n",
    "    - It stores data in unordered format\n",
    "    - Slicing cant be done because of no index\n",
    "    - It can be typecasted as set()\n",
    "    - It stores all data type elements\n",
    "    - It can changes a value"
   ]
  },
  {
   "cell_type": "code",
   "execution_count": 131,
   "id": "2a9bed27",
   "metadata": {},
   "outputs": [
    {
     "name": "stdout",
     "output_type": "stream",
     "text": [
      "{False, 45, 45.021, None, 'Manoj', (3+6j), '0.1', 0.001} <class 'set'>\n"
     ]
    },
    {
     "data": {
      "text/plain": [
       "{(3+6j), 0.001, '0.1', 45, 45.021, False, 'Manoj', None}"
      ]
     },
     "execution_count": 131,
     "metadata": {},
     "output_type": "execute_result"
    }
   ],
   "source": [
    "z = {45,45.021,'Manoj',False,3+6j,None,45,'0.1',0.001}\n",
    "print(z,type(z))\n",
    "z"
   ]
  },
  {
   "cell_type": "code",
   "execution_count": 132,
   "id": "5fa557b7",
   "metadata": {},
   "outputs": [
    {
     "name": "stdout",
     "output_type": "stream",
     "text": [
      "False\n",
      "45\n",
      "45.021\n",
      "None\n",
      "Manoj\n",
      "(3+6j)\n",
      "0.1\n",
      "0.001\n"
     ]
    }
   ],
   "source": [
    "for i in z:\n",
    "    print(i)"
   ]
  },
  {
   "cell_type": "code",
   "execution_count": 134,
   "id": "57399000",
   "metadata": {},
   "outputs": [
    {
     "ename": "TypeError",
     "evalue": "'set' object is not subscriptable",
     "output_type": "error",
     "traceback": [
      "\u001b[1;31m---------------------------------------------------------------------------\u001b[0m",
      "\u001b[1;31mTypeError\u001b[0m                                 Traceback (most recent call last)",
      "Cell \u001b[1;32mIn[134], line 2\u001b[0m\n\u001b[0;32m      1\u001b[0m \u001b[38;5;28;01mfor\u001b[39;00m i \u001b[38;5;129;01min\u001b[39;00m \u001b[38;5;28mrange\u001b[39m(\u001b[38;5;28mlen\u001b[39m(z)):\n\u001b[1;32m----> 2\u001b[0m     \u001b[38;5;28mprint\u001b[39m(\u001b[43mz\u001b[49m\u001b[43m[\u001b[49m\u001b[43mi\u001b[49m\u001b[43m]\u001b[49m)\n",
      "\u001b[1;31mTypeError\u001b[0m: 'set' object is not subscriptable"
     ]
    }
   ],
   "source": [
    "for i in range(len(z)):\n",
    "    print(z[i])"
   ]
  },
  {
   "cell_type": "code",
   "execution_count": 135,
   "id": "924dd60a",
   "metadata": {},
   "outputs": [
    {
     "name": "stdout",
     "output_type": "stream",
     "text": [
      "['__and__', '__class__', '__class_getitem__', '__contains__', '__delattr__', '__dir__', '__doc__', '__eq__', '__format__', '__ge__', '__getattribute__', '__gt__', '__hash__', '__iand__', '__init__', '__init_subclass__', '__ior__', '__isub__', '__iter__', '__ixor__', '__le__', '__len__', '__lt__', '__ne__', '__new__', '__or__', '__rand__', '__reduce__', '__reduce_ex__', '__repr__', '__ror__', '__rsub__', '__rxor__', '__setattr__', '__sizeof__', '__str__', '__sub__', '__subclasshook__', '__xor__', 'add', 'clear', 'copy', 'difference', 'difference_update', 'discard', 'intersection', 'intersection_update', 'isdisjoint', 'issubset', 'issuperset', 'pop', 'remove', 'symmetric_difference', 'symmetric_difference_update', 'union', 'update']\n"
     ]
    }
   ],
   "source": [
    "print(dir(set))"
   ]
  },
  {
   "cell_type": "code",
   "execution_count": 136,
   "id": "df0363e0",
   "metadata": {},
   "outputs": [
    {
     "name": "stdout",
     "output_type": "stream",
     "text": [
      "{3, 420, 7, 8, 9, 45}\n",
      "{3, 5, 7, 8, 120, 168}\n"
     ]
    }
   ],
   "source": [
    "a = {45,7,8,9,3,420}\n",
    "b = {120,5,7,8,3,168}\n",
    "print(a)\n",
    "print(b)"
   ]
  },
  {
   "cell_type": "code",
   "execution_count": 137,
   "id": "b01a3dff",
   "metadata": {},
   "outputs": [
    {
     "name": "stdout",
     "output_type": "stream",
     "text": [
      "{3, 420, 7, 8, 9, 45}\n",
      "{3, 5, 7, 8, 120, 168}\n",
      "{3, 420, 5, 7, 8, 9, 168, 45, 120}\n",
      "{8, 3, 7}\n",
      "{3, 420, 7, 8, 9, 45}\n",
      "{3, 5, 7, 8, 120, 168}\n"
     ]
    }
   ],
   "source": [
    "print(a)\n",
    "print(b)\n",
    "print(a.union(b))\n",
    "print(a.intersection(b))\n",
    "print(a)\n",
    "print(b)"
   ]
  },
  {
   "cell_type": "code",
   "execution_count": 138,
   "id": "377b1f08",
   "metadata": {},
   "outputs": [
    {
     "name": "stdout",
     "output_type": "stream",
     "text": [
      "{3, 420, 7, 8, 9, 45}\n",
      "{3, 5, 7, 8, 120, 168}\n",
      "{9, 420, 45}\n",
      "{3, 420, 7, 8, 9, 45}\n",
      "{3, 5, 7, 8, 120, 168}\n"
     ]
    }
   ],
   "source": [
    "print(a)\n",
    "print(b)\n",
    "print(a.difference(b))\n",
    "print(a)\n",
    "print(b)"
   ]
  },
  {
   "cell_type": "code",
   "execution_count": 139,
   "id": "d0291250",
   "metadata": {},
   "outputs": [
    {
     "name": "stdout",
     "output_type": "stream",
     "text": [
      "{3, 420, 7, 8, 9, 45}\n",
      "{3, 5, 7, 8, 120, 168}\n",
      "{420, 5, 168, 9, 45, 120}\n",
      "{3, 420, 7, 8, 9, 45}\n",
      "{3, 5, 7, 8, 120, 168}\n"
     ]
    }
   ],
   "source": [
    "print(a)\n",
    "print(b)\n",
    "print(a.symmetric_difference(b))\n",
    "print(a)\n",
    "print(b)"
   ]
  },
  {
   "cell_type": "code",
   "execution_count": 140,
   "id": "21ddb6a4",
   "metadata": {},
   "outputs": [
    {
     "name": "stdout",
     "output_type": "stream",
     "text": [
      "{3, 420, 7, 8, 9, 45}\n",
      "{3, 5, 7, 8, 120, 168}\n",
      "{8, 3, 7}\n",
      "{3, 5, 7, 8, 120, 168}\n"
     ]
    }
   ],
   "source": [
    "print(a)\n",
    "print(b)\n",
    "a.intersection_update(b)\n",
    "print(a)\n",
    "print(b)"
   ]
  },
  {
   "cell_type": "code",
   "execution_count": 141,
   "id": "9c528a36",
   "metadata": {},
   "outputs": [
    {
     "name": "stdout",
     "output_type": "stream",
     "text": [
      "{8, 3, 7}\n",
      "{3, 5, 7, 8, 120, 168}\n",
      "{5, 120, 168}\n",
      "{3, 5, 7, 8, 120, 168}\n"
     ]
    }
   ],
   "source": [
    "print(a)\n",
    "print(b)\n",
    "a.symmetric_difference_update(b)\n",
    "print(a)\n",
    "print(b)"
   ]
  },
  {
   "cell_type": "code",
   "execution_count": 142,
   "id": "8b6a18d3",
   "metadata": {},
   "outputs": [
    {
     "name": "stdout",
     "output_type": "stream",
     "text": [
      "{23, 7, 8, 9, 56}\n",
      "{4, 230, 8, 9, 45}\n",
      "{23, 7, 56}\n",
      "{4, 230, 8, 9, 45}\n"
     ]
    }
   ],
   "source": [
    "s = {23,56,7,8,9}\n",
    "w = {45,8,9,4,230}\n",
    "print(s)\n",
    "print(w)\n",
    "s.difference_update(w)\n",
    "print(s)\n",
    "print(w)"
   ]
  },
  {
   "cell_type": "code",
   "execution_count": 143,
   "id": "e5a07543",
   "metadata": {},
   "outputs": [
    {
     "name": "stdout",
     "output_type": "stream",
     "text": [
      "set()\n"
     ]
    },
    {
     "ename": "TypeError",
     "evalue": "set.add() takes exactly one argument (3 given)",
     "output_type": "error",
     "traceback": [
      "\u001b[1;31m---------------------------------------------------------------------------\u001b[0m",
      "\u001b[1;31mTypeError\u001b[0m                                 Traceback (most recent call last)",
      "Cell \u001b[1;32mIn[143], line 3\u001b[0m\n\u001b[0;32m      1\u001b[0m y \u001b[38;5;241m=\u001b[39m \u001b[38;5;28mset\u001b[39m()\n\u001b[0;32m      2\u001b[0m \u001b[38;5;28mprint\u001b[39m(y)\n\u001b[1;32m----> 3\u001b[0m \u001b[43my\u001b[49m\u001b[38;5;241;43m.\u001b[39;49m\u001b[43madd\u001b[49m\u001b[43m(\u001b[49m\u001b[38;5;241;43m45\u001b[39;49m\u001b[43m,\u001b[49m\u001b[38;5;241;43m78\u001b[39;49m\u001b[43m,\u001b[49m\u001b[38;5;241;43m56\u001b[39;49m\u001b[43m)\u001b[49m\n\u001b[0;32m      4\u001b[0m \u001b[38;5;28mprint\u001b[39m(y)\n",
      "\u001b[1;31mTypeError\u001b[0m: set.add() takes exactly one argument (3 given)"
     ]
    }
   ],
   "source": [
    "y = set()\n",
    "print(y)\n",
    "y.add(45,78,56)\n",
    "print(y)"
   ]
  },
  {
   "cell_type": "code",
   "execution_count": 144,
   "id": "37ab66f6",
   "metadata": {},
   "outputs": [
    {
     "name": "stdout",
     "output_type": "stream",
     "text": [
      "set()\n"
     ]
    },
    {
     "ename": "TypeError",
     "evalue": "unhashable type: 'list'",
     "output_type": "error",
     "traceback": [
      "\u001b[1;31m---------------------------------------------------------------------------\u001b[0m",
      "\u001b[1;31mTypeError\u001b[0m                                 Traceback (most recent call last)",
      "Cell \u001b[1;32mIn[144], line 3\u001b[0m\n\u001b[0;32m      1\u001b[0m y \u001b[38;5;241m=\u001b[39m \u001b[38;5;28mset\u001b[39m()\n\u001b[0;32m      2\u001b[0m \u001b[38;5;28mprint\u001b[39m(y)\n\u001b[1;32m----> 3\u001b[0m \u001b[43my\u001b[49m\u001b[38;5;241;43m.\u001b[39;49m\u001b[43madd\u001b[49m\u001b[43m(\u001b[49m\u001b[43m[\u001b[49m\u001b[38;5;241;43m45\u001b[39;49m\u001b[43m,\u001b[49m\u001b[38;5;241;43m78\u001b[39;49m\u001b[43m,\u001b[49m\u001b[38;5;241;43m56\u001b[39;49m\u001b[43m]\u001b[49m\u001b[43m)\u001b[49m\n\u001b[0;32m      4\u001b[0m \u001b[38;5;28mprint\u001b[39m(y)\n",
      "\u001b[1;31mTypeError\u001b[0m: unhashable type: 'list'"
     ]
    }
   ],
   "source": [
    "y = set()\n",
    "print(y)\n",
    "y.add([45,78,56])\n",
    "print(y)"
   ]
  },
  {
   "cell_type": "code",
   "execution_count": 145,
   "id": "64352734",
   "metadata": {},
   "outputs": [
    {
     "name": "stdout",
     "output_type": "stream",
     "text": [
      "set()\n"
     ]
    },
    {
     "ename": "TypeError",
     "evalue": "unhashable type: 'set'",
     "output_type": "error",
     "traceback": [
      "\u001b[1;31m---------------------------------------------------------------------------\u001b[0m",
      "\u001b[1;31mTypeError\u001b[0m                                 Traceback (most recent call last)",
      "Cell \u001b[1;32mIn[145], line 3\u001b[0m\n\u001b[0;32m      1\u001b[0m y \u001b[38;5;241m=\u001b[39m \u001b[38;5;28mset\u001b[39m()\n\u001b[0;32m      2\u001b[0m \u001b[38;5;28mprint\u001b[39m(y)\n\u001b[1;32m----> 3\u001b[0m \u001b[43my\u001b[49m\u001b[38;5;241;43m.\u001b[39;49m\u001b[43madd\u001b[49m\u001b[43m(\u001b[49m\u001b[43m{\u001b[49m\u001b[38;5;241;43m45\u001b[39;49m\u001b[43m,\u001b[49m\u001b[38;5;241;43m78\u001b[39;49m\u001b[43m,\u001b[49m\u001b[38;5;241;43m56\u001b[39;49m\u001b[43m}\u001b[49m\u001b[43m)\u001b[49m\n\u001b[0;32m      4\u001b[0m \u001b[38;5;28mprint\u001b[39m(y)\n",
      "\u001b[1;31mTypeError\u001b[0m: unhashable type: 'set'"
     ]
    }
   ],
   "source": [
    "y = set()\n",
    "print(y)\n",
    "y.add({45,78,56})\n",
    "print(y)"
   ]
  },
  {
   "cell_type": "code",
   "execution_count": 146,
   "id": "dbb6922d",
   "metadata": {},
   "outputs": [
    {
     "name": "stdout",
     "output_type": "stream",
     "text": [
      "set()\n",
      "{(45, 78, 56)}\n"
     ]
    }
   ],
   "source": [
    "y = set()\n",
    "print(y)\n",
    "y.add((45,78,56))\n",
    "print(y)"
   ]
  },
  {
   "cell_type": "code",
   "execution_count": 147,
   "id": "2764c2b9",
   "metadata": {},
   "outputs": [
    {
     "name": "stdout",
     "output_type": "stream",
     "text": [
      "{450, 23, 56, 89, 45}\n",
      "{23, 56, 89, 45}\n"
     ]
    }
   ],
   "source": [
    "v = {45,56,23,89,450}\n",
    "print(v)\n",
    "v.pop()\n",
    "print(v)"
   ]
  },
  {
   "cell_type": "code",
   "execution_count": 148,
   "id": "631e3f4b",
   "metadata": {},
   "outputs": [
    {
     "name": "stdout",
     "output_type": "stream",
     "text": [
      "{23, 56, 89, 45}\n"
     ]
    },
    {
     "ename": "TypeError",
     "evalue": "set.pop() takes no arguments (1 given)",
     "output_type": "error",
     "traceback": [
      "\u001b[1;31m---------------------------------------------------------------------------\u001b[0m",
      "\u001b[1;31mTypeError\u001b[0m                                 Traceback (most recent call last)",
      "Cell \u001b[1;32mIn[148], line 2\u001b[0m\n\u001b[0;32m      1\u001b[0m \u001b[38;5;28mprint\u001b[39m(v)\n\u001b[1;32m----> 2\u001b[0m \u001b[43mv\u001b[49m\u001b[38;5;241;43m.\u001b[39;49m\u001b[43mpop\u001b[49m\u001b[43m(\u001b[49m\u001b[38;5;241;43m23\u001b[39;49m\u001b[43m)\u001b[49m\n\u001b[0;32m      3\u001b[0m \u001b[38;5;28mprint\u001b[39m(v)\n",
      "\u001b[1;31mTypeError\u001b[0m: set.pop() takes no arguments (1 given)"
     ]
    }
   ],
   "source": [
    "print(v)\n",
    "v.pop(23)\n",
    "print(v)"
   ]
  },
  {
   "cell_type": "code",
   "execution_count": 149,
   "id": "5564f067",
   "metadata": {},
   "outputs": [
    {
     "name": "stdout",
     "output_type": "stream",
     "text": [
      "{23, 56, 89, 45}\n"
     ]
    },
    {
     "ename": "TypeError",
     "evalue": "set.remove() takes exactly one argument (0 given)",
     "output_type": "error",
     "traceback": [
      "\u001b[1;31m---------------------------------------------------------------------------\u001b[0m",
      "\u001b[1;31mTypeError\u001b[0m                                 Traceback (most recent call last)",
      "Cell \u001b[1;32mIn[149], line 2\u001b[0m\n\u001b[0;32m      1\u001b[0m \u001b[38;5;28mprint\u001b[39m(v)\n\u001b[1;32m----> 2\u001b[0m \u001b[43mv\u001b[49m\u001b[38;5;241;43m.\u001b[39;49m\u001b[43mremove\u001b[49m\u001b[43m(\u001b[49m\u001b[43m)\u001b[49m\n\u001b[0;32m      3\u001b[0m \u001b[38;5;28mprint\u001b[39m(v)\n",
      "\u001b[1;31mTypeError\u001b[0m: set.remove() takes exactly one argument (0 given)"
     ]
    }
   ],
   "source": [
    "print(v)\n",
    "v.remove()\n",
    "print(v)"
   ]
  },
  {
   "cell_type": "code",
   "execution_count": 150,
   "id": "ada34557",
   "metadata": {},
   "outputs": [
    {
     "name": "stdout",
     "output_type": "stream",
     "text": [
      "{23, 56, 89, 45}\n",
      "{56, 89, 45}\n"
     ]
    }
   ],
   "source": [
    "print(v)\n",
    "v.remove(23)\n",
    "print(v)"
   ]
  },
  {
   "cell_type": "code",
   "execution_count": 151,
   "id": "a555c614",
   "metadata": {},
   "outputs": [
    {
     "name": "stdout",
     "output_type": "stream",
     "text": [
      "{56, 89, 45}\n"
     ]
    },
    {
     "ename": "KeyError",
     "evalue": "100",
     "output_type": "error",
     "traceback": [
      "\u001b[1;31m---------------------------------------------------------------------------\u001b[0m",
      "\u001b[1;31mKeyError\u001b[0m                                  Traceback (most recent call last)",
      "Cell \u001b[1;32mIn[151], line 2\u001b[0m\n\u001b[0;32m      1\u001b[0m \u001b[38;5;28mprint\u001b[39m(v)\n\u001b[1;32m----> 2\u001b[0m \u001b[43mv\u001b[49m\u001b[38;5;241;43m.\u001b[39;49m\u001b[43mremove\u001b[49m\u001b[43m(\u001b[49m\u001b[38;5;241;43m100\u001b[39;49m\u001b[43m)\u001b[49m\n\u001b[0;32m      3\u001b[0m \u001b[38;5;28mprint\u001b[39m(v)\n",
      "\u001b[1;31mKeyError\u001b[0m: 100"
     ]
    }
   ],
   "source": [
    "print(v)\n",
    "v.remove(100)\n",
    "print(v)"
   ]
  },
  {
   "cell_type": "code",
   "execution_count": 152,
   "id": "8534ae53",
   "metadata": {},
   "outputs": [
    {
     "name": "stdout",
     "output_type": "stream",
     "text": [
      "{56, 89, 45}\n",
      "{56, 45}\n"
     ]
    }
   ],
   "source": [
    "print(v)\n",
    "v.discard(89)\n",
    "print(v)"
   ]
  },
  {
   "cell_type": "markdown",
   "id": "5bce448a",
   "metadata": {},
   "source": [
    "## String:\n",
    "    - It stores different data type elements but enclosed with ' or \"\n",
    "    - Changes can be done\n",
    "    - It can be represented as ' or \"\n",
    "    - It allows duplicate values\n",
    "    - Slicing can be done because of index\n",
    "    - It can be typecasted as str()\n",
    "    - It stores in ordered format"
   ]
  },
  {
   "cell_type": "code",
   "execution_count": 153,
   "id": "4243c183",
   "metadata": {},
   "outputs": [
    {
     "name": "stdout",
     "output_type": "stream",
     "text": [
      "['__add__', '__class__', '__contains__', '__delattr__', '__dir__', '__doc__', '__eq__', '__format__', '__ge__', '__getattribute__', '__getitem__', '__getnewargs__', '__gt__', '__hash__', '__init__', '__init_subclass__', '__iter__', '__le__', '__len__', '__lt__', '__mod__', '__mul__', '__ne__', '__new__', '__reduce__', '__reduce_ex__', '__repr__', '__rmod__', '__rmul__', '__setattr__', '__sizeof__', '__str__', '__subclasshook__', 'capitalize', 'casefold', 'center', 'count', 'encode', 'endswith', 'expandtabs', 'find', 'format', 'format_map', 'index', 'isalnum', 'isalpha', 'isascii', 'isdecimal', 'isdigit', 'isidentifier', 'islower', 'isnumeric', 'isprintable', 'isspace', 'istitle', 'isupper', 'join', 'ljust', 'lower', 'lstrip', 'maketrans', 'partition', 'removeprefix', 'removesuffix', 'replace', 'rfind', 'rindex', 'rjust', 'rpartition', 'rsplit', 'rstrip', 'split', 'splitlines', 'startswith', 'strip', 'swapcase', 'title', 'translate', 'upper', 'zfill']\n"
     ]
    }
   ],
   "source": [
    "print(dir(str))"
   ]
  },
  {
   "cell_type": "code",
   "execution_count": 154,
   "id": "111e0964",
   "metadata": {},
   "outputs": [
    {
     "name": "stdout",
     "output_type": "stream",
     "text": [
      "THis is an Example for StRING <class 'str'>\n"
     ]
    }
   ],
   "source": [
    "a = \"THis is an Example for StRING\"\n",
    "print(a,type(a))"
   ]
  },
  {
   "cell_type": "code",
   "execution_count": 163,
   "id": "0b752932",
   "metadata": {},
   "outputs": [
    {
     "name": "stdout",
     "output_type": "stream",
     "text": [
      "T H i s   i s   a n   E x a m p l e   f o r   S t R I N G "
     ]
    }
   ],
   "source": [
    "for i in a:\n",
    "    print(i,end=\" \")"
   ]
  },
  {
   "cell_type": "code",
   "execution_count": 156,
   "id": "4dd1fcf7",
   "metadata": {},
   "outputs": [
    {
     "name": "stdout",
     "output_type": "stream",
     "text": [
      "T H i s   i s   a n   E x a m p l e   f o r   S t R I N G "
     ]
    }
   ],
   "source": [
    "for i in range(len(a)):\n",
    "    print(a[i],end=\" \")"
   ]
  },
  {
   "cell_type": "code",
   "execution_count": 159,
   "id": "ead34d93",
   "metadata": {},
   "outputs": [
    {
     "name": "stdout",
     "output_type": "stream",
     "text": [
      "THis is an Example for StRING\n",
      "a\n",
      " is a\n",
      "si nE\n"
     ]
    }
   ],
   "source": [
    "print(a)\n",
    "print(a[8])\n",
    "print(a[4:9])\n",
    "print(a[3:12:2])"
   ]
  },
  {
   "cell_type": "code",
   "execution_count": 160,
   "id": "9d8e77d2",
   "metadata": {},
   "outputs": [
    {
     "name": "stdout",
     "output_type": "stream",
     "text": [
      "THis is an Example for StRING\n",
      "This is an example for string\n",
      "This Is An Example For String\n",
      "thIS IS AN eXAMPLE FOR sTring\n",
      "this is an example for string\n",
      "THIS IS AN EXAMPLE FOR STRING\n",
      "this is an example for string\n"
     ]
    }
   ],
   "source": [
    "print(a)\n",
    "print(a.capitalize())\n",
    "print(a.title())\n",
    "print(a.swapcase())\n",
    "print(a.casefold())\n",
    "print(a.upper())\n",
    "print(a.lower())"
   ]
  },
  {
   "cell_type": "code",
   "execution_count": 162,
   "id": "840e233a",
   "metadata": {},
   "outputs": [
    {
     "name": "stdout",
     "output_type": "stream",
     "text": [
      "4,7,8,9\n",
      "['4', '7', '8', '9'] <class 'list'>\n"
     ]
    }
   ],
   "source": [
    "m = input().split(\",\")\n",
    "print(m,type(m))"
   ]
  },
  {
   "cell_type": "code",
   "execution_count": null,
   "id": "e483444e",
   "metadata": {},
   "outputs": [],
   "source": []
  }
 ],
 "metadata": {
  "kernelspec": {
   "display_name": "Python 3 (ipykernel)",
   "language": "python",
   "name": "python3"
  },
  "language_info": {
   "codemirror_mode": {
    "name": "ipython",
    "version": 3
   },
   "file_extension": ".py",
   "mimetype": "text/x-python",
   "name": "python",
   "nbconvert_exporter": "python",
   "pygments_lexer": "ipython3",
   "version": "3.9.13"
  }
 },
 "nbformat": 4,
 "nbformat_minor": 5
}
