{
 "cells": [
  {
   "cell_type": "markdown",
   "id": "34733b26",
   "metadata": {},
   "source": [
    "```\n",
    "Input:\n",
    "    Enter a number: ?\n",
    "    Enter b number: ?\n",
    "Output:\n",
    "    Numbers are '?' and '?'\n",
    "    Values are: ?\n",
    "    a^3+b\n",
    "```"
   ]
  },
  {
   "cell_type": "code",
   "execution_count": 1,
   "id": "d7a0087c",
   "metadata": {},
   "outputs": [
    {
     "name": "stdout",
     "output_type": "stream",
     "text": [
      "Enter a number: 2\n",
      "Enter b number: 5\n",
      "Numbers are '2' and '5'\n",
      "Values are: 13\n"
     ]
    }
   ],
   "source": [
    "a,b = int(input(\"Enter a number: \")),int(input(\"Enter b number: \"))\n",
    "print(\"Numbers are '{}' and '{}'\".format(a,b))\n",
    "print(\"Values are: {}\".format(a**3+b))"
   ]
  },
  {
   "cell_type": "code",
   "execution_count": 2,
   "id": "06b2102a",
   "metadata": {},
   "outputs": [],
   "source": [
    "import keyword"
   ]
  },
  {
   "cell_type": "code",
   "execution_count": 3,
   "id": "d64eae9c",
   "metadata": {},
   "outputs": [
    {
     "name": "stdout",
     "output_type": "stream",
     "text": [
      "['__all__', '__builtins__', '__cached__', '__doc__', '__file__', '__loader__', '__name__', '__package__', '__spec__', 'iskeyword', 'issoftkeyword', 'kwlist', 'softkwlist']\n"
     ]
    }
   ],
   "source": [
    "print(dir(keyword))"
   ]
  },
  {
   "cell_type": "code",
   "execution_count": 6,
   "id": "98f60673",
   "metadata": {},
   "outputs": [
    {
     "name": "stdout",
     "output_type": "stream",
     "text": [
      "['False', 'None', 'True', '__peg_parser__', 'and', 'as', 'assert', 'async', 'await', 'break', 'class', 'continue', 'def', 'del', 'elif', 'else', 'except', 'finally', 'for', 'from', 'global', 'if', 'import', 'in', 'is', 'lambda', 'nonlocal', 'not', 'or', 'pass', 'raise', 'return', 'try', 'while', 'with', 'yield']\n",
      "36\n"
     ]
    }
   ],
   "source": [
    "print(keyword.kwlist)\n",
    "print(len(keyword.kwlist))"
   ]
  },
  {
   "cell_type": "code",
   "execution_count": 8,
   "id": "32a32073",
   "metadata": {},
   "outputs": [
    {
     "name": "stdout",
     "output_type": "stream",
     "text": [
      "3.145\n",
      "3.14\n"
     ]
    }
   ],
   "source": [
    "PI = 3.145\n",
    "print(PI)\n",
    "# PI = '3.14'\n",
    "# print(PI)"
   ]
  },
  {
   "cell_type": "markdown",
   "id": "007353b8",
   "metadata": {},
   "source": [
    "## Conditional Statements:\n",
    "    - To check whether a given condition is either True or False\n",
    "    - if => single\n",
    "    - if-else => 2 cases\n",
    "    - nested if => 2 or more cases\n",
    "    - elif => 2 or more n number of cases "
   ]
  },
  {
   "cell_type": "markdown",
   "id": "ae8a06a7",
   "metadata": {},
   "source": [
    "## if\n",
    "    Syntax:\n",
    "        if condition:\n",
    "            //stmnts\n",
    "        () => optional"
   ]
  },
  {
   "cell_type": "code",
   "execution_count": 12,
   "id": "b2da3f29",
   "metadata": {},
   "outputs": [
    {
     "name": "stdout",
     "output_type": "stream",
     "text": [
      "Enter a number: 4\n",
      "Numbers are Not Equal\n"
     ]
    }
   ],
   "source": [
    "n = int(input(\"Enter a number: \"))\n",
    "if n != 45:\n",
    "    print(\"Numbers are Not Equal\")"
   ]
  },
  {
   "cell_type": "code",
   "execution_count": 17,
   "id": "fef95647",
   "metadata": {},
   "outputs": [
    {
     "name": "stdout",
     "output_type": "stream",
     "text": [
      "Enter a number: 4\n",
      "Enter a number to Fix: 8\n"
     ]
    }
   ],
   "source": [
    "n = int(input(\"Enter a number: \"))\n",
    "if n == int(input(\"Enter a number to Fix: \")):\n",
    "    print(\"{} is equal\".format(n))"
   ]
  },
  {
   "cell_type": "markdown",
   "id": "f9c65129",
   "metadata": {},
   "source": [
    "## if-else:\n",
    "    Syntax:\n",
    "        if condition:\n",
    "            //stmnt-1\n",
    "        else:\n",
    "            //stmnt-2\n",
    "        () => Optional"
   ]
  },
  {
   "cell_type": "code",
   "execution_count": 20,
   "id": "1d0a709f",
   "metadata": {},
   "outputs": [
    {
     "name": "stdout",
     "output_type": "stream",
     "text": [
      "Enter a number: 30\n",
      "Given number is 30 Equal to 30\n"
     ]
    }
   ],
   "source": [
    "n = int(input(\"Enter a number: \"))\n",
    "if n == 30:\n",
    "    print(\"Given number is {} Equal to 30\"\n",
    "          .format(n))\n",
    "else:\n",
    "    print(\"Given number is {} not Equal to 30\"\n",
    "          .format(n))"
   ]
  },
  {
   "cell_type": "code",
   "execution_count": 21,
   "id": "30cb5943",
   "metadata": {},
   "outputs": [
    {
     "name": "stdout",
     "output_type": "stream",
     "text": [
      "Enter a number: 5\n",
      "Given number 5 is Odd\n"
     ]
    }
   ],
   "source": [
    "n = int(input(\"Enter a number: \"))\n",
    "if n%2==0:\n",
    "    print(\"Given number {} is Even\".format(n))\n",
    "else:\n",
    "    print(\"Given number {} is Odd\".format(n))"
   ]
  },
  {
   "cell_type": "markdown",
   "id": "4500b069",
   "metadata": {},
   "source": [
    "```\n",
    "Input:\n",
    "    Enter a number: 3\n",
    "Output:\n",
    "    Enter x value: 5\n",
    "    Enter y value: 3\n",
    "    Entered numbers are: 5 and 3 value is: 15\n",
    "\n",
    "Input:\n",
    "    Enter a number: 12\n",
    "Output:\n",
    "    Enter x value: 2\n",
    "    Enter y value: 3\n",
    "    Entered numbers are: 2 and 3 value is: 8\n",
    "```"
   ]
  },
  {
   "cell_type": "code",
   "execution_count": 23,
   "id": "d25012e5",
   "metadata": {},
   "outputs": [
    {
     "name": "stdout",
     "output_type": "stream",
     "text": [
      "Enter a number: 5\n",
      "Enter x value: 1\n",
      "Enter y value: 2\n",
      "Entered numbers are 1 and 2 is: 2\n"
     ]
    }
   ],
   "source": [
    "n =  int(input(\"Enter a number: \"))\n",
    "if n%2==0:\n",
    "    x,y = int(input(\"Enter x value: \")),int(input(\"Enter y value: \"))\n",
    "    print(\"Entered numbers are {} and {} is: {}\"\n",
    "         .format(x,y,x**y))\n",
    "else:\n",
    "    x,y = int(input(\"Enter x value: \")),int(input(\"Enter y value: \"))\n",
    "    print(\"Entered numbers are {} and {} is: {}\"\n",
    "         .format(x,y,x*y))"
   ]
  },
  {
   "cell_type": "markdown",
   "id": "29b2e5be",
   "metadata": {},
   "source": [
    "## Nested if:\n",
    "    Syntax:\n",
    "        if condition-1:\n",
    "            if condition-2:\n",
    "                //stmnt-1\n",
    "            else:\n",
    "                //stmnt-2\n",
    "        else:\n",
    "            //stmnt-3"
   ]
  },
  {
   "cell_type": "code",
   "execution_count": 29,
   "id": "77e77d22",
   "metadata": {},
   "outputs": [
    {
     "name": "stdout",
     "output_type": "stream",
     "text": [
      "enter amount20\n",
      "entered amount  20 is highest\n"
     ]
    }
   ],
   "source": [
    "n=int(input(\"enter amount\"))\n",
    "if n<20:\n",
    "    if n==10:\n",
    "        print(\"entered amount  {} is equal to 10\".format(n))\n",
    "    else:\n",
    "        print(\"entered amount  {} is less than 10\".format(n))\n",
    "else:\n",
    "    print(\"entered amount  {} is highest\".format(n))"
   ]
  },
  {
   "cell_type": "markdown",
   "id": "60e99542",
   "metadata": {},
   "source": [
    "## elif\n",
    "    Syntax:\n",
    "        if condition-1:\n",
    "            //stmnt-1\n",
    "        elif condition-2:\n",
    "            //stmnt-2\n",
    "            |        |\n",
    "        elif condition-(n-2):\n",
    "            //stmn-(n-2)\n",
    "        else:\n",
    "            //stmnt-(n-1)"
   ]
  },
  {
   "cell_type": "code",
   "execution_count": 30,
   "id": "f368bdd8",
   "metadata": {},
   "outputs": [
    {
     "name": "stdout",
     "output_type": "stream",
     "text": [
      "Enter a value: 5\n",
      "Given number is: 5\n"
     ]
    }
   ],
   "source": [
    "n = int(input(\"Enter a value: \"))\n",
    "if ((n%2!=0) and (n>10 and n<20)):\n",
    "    print(\"Given number {} is Greater \"\n",
    "          \"than 10 and Less than 20\".format(n))\n",
    "elif ((n%2==0) and (n>10 and n<20)):\n",
    "    print(\"Given number {} is Greater\"\n",
    "          \"than 10 and Less than 20\".format(n))\n",
    "elif ((n%2==0) and (n%4==0)):\n",
    "    print(\"Given number {} is Divisible by \"\n",
    "          \"2 and 4\".format(n))\n",
    "else:\n",
    "    print(\"Given number is: {}\".format(n))"
   ]
  },
  {
   "cell_type": "markdown",
   "id": "4f431242",
   "metadata": {},
   "source": [
    "## Loops (or) Iteration (or) Repitions:\n",
    "    - To iterate a statement for n number of times untill condition is True or False\n",
    "    - for => Known and Unknown ranges\n",
    "    - while => Known,Unknown ranges and Infinity Loop"
   ]
  },
  {
   "cell_type": "markdown",
   "id": "1f3f4ca3",
   "metadata": {},
   "source": [
    "## for:\n",
    "    Syntax:\n",
    "        for iterationvariablename in range(start,stop,step):\n",
    "            //stmnts\n",
    "                   or\n",
    "        for iterationvariablename in iterator:\n",
    "            //stmnts"
   ]
  },
  {
   "cell_type": "markdown",
   "id": "855f5cce",
   "metadata": {},
   "source": [
    "## range:\n",
    "    - range(stop)\n",
    "        - It ends with stop-1 value\n",
    "        - By default it starts with 0\n",
    "        - By default it increments with +1\n",
    "        - Ex:\n",
    "            range(5)\n",
    "            0 1 2 3 4\n",
    "    - range(start,stop)\n",
    "        - It ends with stop-1 value\n",
    "        - It starts exactly with start value\n",
    "        - By default it increments with +1\n",
    "        - Ex:\n",
    "            range(5,8)\n",
    "            5 6 7\n",
    "    - range(start,stop,step)\n",
    "        - It stops with stop-1 value\n",
    "        - It increments/decrement with step value\n",
    "        - It starts exactly with start value\n",
    "        - Ex:\n",
    "            range(5,20,3)\n",
    "            5 8 11 14 17 "
   ]
  },
  {
   "cell_type": "code",
   "execution_count": 39,
   "id": "15c5c57a",
   "metadata": {},
   "outputs": [
    {
     "name": "stdout",
     "output_type": "stream",
     "text": [
      "Enter a range: 10\n",
      "0 1 2 3 4 5 6 7 8 9 "
     ]
    }
   ],
   "source": [
    "n = int(input(\"Enter a range: \"))\n",
    "for i in range(n):\n",
    "    print(i,end=\" \")"
   ]
  },
  {
   "cell_type": "code",
   "execution_count": 41,
   "id": "541dd7bb",
   "metadata": {},
   "outputs": [
    {
     "name": "stdout",
     "output_type": "stream",
     "text": [
      "Enter a range: 10\n",
      "9 8 7 6 5 4 3 2 1 0 "
     ]
    }
   ],
   "source": [
    "n = int(input(\"Enter a range: \"))\n",
    "for i in range(n):\n",
    "    print(n-i-1,end=\" \")"
   ]
  },
  {
   "cell_type": "code",
   "execution_count": 42,
   "id": "e01825b2",
   "metadata": {},
   "outputs": [
    {
     "name": "stdout",
     "output_type": "stream",
     "text": [
      "10\n",
      "15\n",
      "10 11 12 13 14 "
     ]
    }
   ],
   "source": [
    "n,m = int(input()),int(input())\n",
    "for i in range(n,m):\n",
    "    print(i,end=\" \")"
   ]
  },
  {
   "cell_type": "code",
   "execution_count": 47,
   "id": "915d2349",
   "metadata": {},
   "outputs": [
    {
     "name": "stdout",
     "output_type": "stream",
     "text": [
      "10\n",
      "20\n",
      "19 18 17 16 15 14 13 12 11 10 "
     ]
    }
   ],
   "source": [
    "n,m = int(input()),int(input())\n",
    "for i in range(n,m):\n",
    "    print(n+m-i-1,end=\" \")"
   ]
  },
  {
   "cell_type": "code",
   "execution_count": 48,
   "id": "d6ad39f1",
   "metadata": {},
   "outputs": [
    {
     "name": "stdout",
     "output_type": "stream",
     "text": [
      "10\n",
      "20\n",
      "5\n",
      "10 15 "
     ]
    }
   ],
   "source": [
    "n,m,k = int(input()),int(input()),int(input())\n",
    "for i in range(n,m,k):\n",
    "    print(i,end=\" \")"
   ]
  },
  {
   "cell_type": "code",
   "execution_count": 50,
   "id": "50464d93",
   "metadata": {},
   "outputs": [
    {
     "name": "stdout",
     "output_type": "stream",
     "text": [
      "5\n",
      "4\n",
      "4\n",
      "8 2 2\n",
      "6\n",
      "12 4 "
     ]
    }
   ],
   "source": [
    "n = int(input())\n",
    "for i in range(1,n):\n",
    "    if i%2!=0:\n",
    "        if i==1:\n",
    "            a,b = int(input()),int(input())\n",
    "            print(a+b,end=\" \")\n",
    "        elif i==3:\n",
    "            a,b=int(input()),int(input())\n",
    "            print(a*b,end=\" \")\n",
    "        else:\n",
    "            a,b=int(input()),int(input())\n",
    "            print(a//b,end=\" \")\n",
    "    else:\n",
    "        print(i,end=\" \")"
   ]
  },
  {
   "cell_type": "code",
   "execution_count": 53,
   "id": "06eb3d02",
   "metadata": {},
   "outputs": [
    {
     "name": "stdout",
     "output_type": "stream",
     "text": [
      "Enter a range: 10\n",
      "Sum of 10 Natural number is: 55\n"
     ]
    }
   ],
   "source": [
    "n = int(input(\"Enter a range: \"))\n",
    "h = 0\n",
    "for i in range(1,n+1):\n",
    "    h+=i\n",
    "print(\"Sum of {} Natural number is: {}\"\n",
    "      .format(n,h))"
   ]
  },
  {
   "cell_type": "code",
   "execution_count": null,
   "id": "3aa8a08a",
   "metadata": {},
   "outputs": [],
   "source": []
  }
 ],
 "metadata": {
  "kernelspec": {
   "display_name": "Python 3 (ipykernel)",
   "language": "python",
   "name": "python3"
  },
  "language_info": {
   "codemirror_mode": {
    "name": "ipython",
    "version": 3
   },
   "file_extension": ".py",
   "mimetype": "text/x-python",
   "name": "python",
   "nbconvert_exporter": "python",
   "pygments_lexer": "ipython3",
   "version": "3.9.13"
  }
 },
 "nbformat": 4,
 "nbformat_minor": 5
}
