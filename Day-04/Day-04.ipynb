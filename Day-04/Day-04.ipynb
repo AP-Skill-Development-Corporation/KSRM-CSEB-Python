{
 "cells": [
  {
   "cell_type": "markdown",
   "id": "9994bca2",
   "metadata": {},
   "source": [
    "## While:\n",
    "    Syntax:\n",
    "        initialization\n",
    "        while condition:\n",
    "            //stmnts\n",
    "            incr/decr"
   ]
  },
  {
   "cell_type": "code",
   "execution_count": 1,
   "id": "2ed61e77",
   "metadata": {},
   "outputs": [
    {
     "name": "stdout",
     "output_type": "stream",
     "text": [
      "5\n",
      "0 1 2 3 4 "
     ]
    }
   ],
   "source": [
    "n,i = int(input()),0\n",
    "while i<n:\n",
    "    print(i,end=\" \")\n",
    "    i+=1"
   ]
  },
  {
   "cell_type": "code",
   "execution_count": 2,
   "id": "e2955c3d",
   "metadata": {},
   "outputs": [
    {
     "name": "stdout",
     "output_type": "stream",
     "text": [
      "10\n",
      "20\n",
      "10 11 12 13 14 15 16 17 18 19 "
     ]
    }
   ],
   "source": [
    "n,m = int(input()),int(input())\n",
    "while n!=m:\n",
    "    print(n,end=\" \")\n",
    "    n+=1"
   ]
  },
  {
   "cell_type": "code",
   "execution_count": 2,
   "id": "7f4fd6e3",
   "metadata": {},
   "outputs": [
    {
     "name": "stdout",
     "output_type": "stream",
     "text": [
      "20\n",
      "10\n",
      "20 19 18 17 16 15 14 13 12 11 "
     ]
    }
   ],
   "source": [
    "n,m = int(input()),int(input())\n",
    "while n>m:\n",
    "    print(n,end=\" \")\n",
    "    n-=1"
   ]
  },
  {
   "cell_type": "markdown",
   "id": "5d1eacf6",
   "metadata": {},
   "source": [
    "## Jumping Statements:\n",
    "    - break => It exists from a loop\n",
    "    - continue => It skips a condition\n",
    "    - pass => It skips and for future enhancements we can define the task\n",
    "    - return => It returns a single or multiple value"
   ]
  },
  {
   "cell_type": "code",
   "execution_count": 5,
   "id": "03901f07",
   "metadata": {},
   "outputs": [
    {
     "name": "stdout",
     "output_type": "stream",
     "text": [
      "2\n",
      "10\n",
      "2 3 4 "
     ]
    }
   ],
   "source": [
    "n,m = int(input()),int(input())\n",
    "for i in range(n,m):\n",
    "    if i==5:\n",
    "        break\n",
    "    print(i,end=\" \")"
   ]
  },
  {
   "cell_type": "code",
   "execution_count": 7,
   "id": "659466f0",
   "metadata": {},
   "outputs": [
    {
     "name": "stdout",
     "output_type": "stream",
     "text": [
      "1\n",
      "15\n",
      "1 2 3 4 6 7 9 11 12 13 14 "
     ]
    }
   ],
   "source": [
    "n,m = int(input()),int(input())\n",
    "for i in range(n,m):\n",
    "    if i==5 or i==8 or i==10:\n",
    "        continue\n",
    "    print(i,end=\" \")"
   ]
  },
  {
   "cell_type": "code",
   "execution_count": 8,
   "id": "e09e7400",
   "metadata": {},
   "outputs": [
    {
     "name": "stdout",
     "output_type": "stream",
     "text": [
      "1\n",
      "25\n",
      "1 2 3 4 5 6 7 8 9 21 22 23 24 "
     ]
    }
   ],
   "source": [
    "n,m = int(input()),int(input())\n",
    "for i in range(n,m):\n",
    "    if i>=10 and i<=20:\n",
    "        continue\n",
    "    print(i,end=\" \")"
   ]
  },
  {
   "cell_type": "code",
   "execution_count": 15,
   "id": "30a7f721",
   "metadata": {},
   "outputs": [
    {
     "name": "stdout",
     "output_type": "stream",
     "text": [
      "1\n",
      "25\n",
      "1 2 3 4 5 6 7 8 9 11 12 13 14 15 16 17 18 19 20 21 22 23 24 "
     ]
    }
   ],
   "source": [
    "n,m = int(input()),int(input())\n",
    "for i in range(n,m):\n",
    "    if i==10:\n",
    "        pass\n",
    "    else:\n",
    "        print(i,end=\" \")"
   ]
  },
  {
   "cell_type": "code",
   "execution_count": 11,
   "id": "720e19d1",
   "metadata": {},
   "outputs": [
    {
     "name": "stdout",
     "output_type": "stream",
     "text": [
      "20\n"
     ]
    }
   ],
   "source": [
    "m = 20\n",
    "if m == 10:\n",
    "    pass\n",
    "else:\n",
    "    print(m)"
   ]
  },
  {
   "cell_type": "markdown",
   "id": "24653ccb",
   "metadata": {},
   "source": [
    "## Inner Loops:\n",
    "    - Loop within a Loop\n",
    "    - For allignment of rows and columns or reading of user data to rows or a columns\n",
    "    Syntax:\n",
    "        loop => row defines [outer Loop]\n",
    "            loop => column defines [Inner Loop]\n",
    "            // print"
   ]
  },
  {
   "cell_type": "code",
   "execution_count": 21,
   "id": "1890895c",
   "metadata": {},
   "outputs": [
    {
     "name": "stdout",
     "output_type": "stream",
     "text": [
      "5\n",
      "00 01 02 03 04 \n",
      "10 11 12 13 14 \n",
      "20 21 22 23 24 \n",
      "30 31 32 33 34 \n",
      "40 41 42 43 44 \n"
     ]
    }
   ],
   "source": [
    "n = int(input())\n",
    "for i in range(n):\n",
    "    for j in range(n):\n",
    "        print(\"{}{}\".format(i,j),end=\" \")\n",
    "    print()"
   ]
  },
  {
   "cell_type": "code",
   "execution_count": 22,
   "id": "80ae5672",
   "metadata": {},
   "outputs": [
    {
     "name": "stdout",
     "output_type": "stream",
     "text": [
      "3\n",
      "* * * \n",
      "* * * \n",
      "* * * \n"
     ]
    }
   ],
   "source": [
    "n = int(input())\n",
    "for i in range(n):\n",
    "    for j in range(n):\n",
    "        print(\"*\",end=\" \")\n",
    "    print()"
   ]
  },
  {
   "cell_type": "code",
   "execution_count": 29,
   "id": "887fd610",
   "metadata": {},
   "outputs": [
    {
     "name": "stdout",
     "output_type": "stream",
     "text": [
      "5\n",
      "* * * * * \n",
      "*       * \n",
      "*       * \n",
      "*       * \n",
      "* * * * * \n"
     ]
    }
   ],
   "source": [
    "n = int(input())\n",
    "for i in range(n):\n",
    "    for j in range(n):\n",
    "        if i==0 or j==0 or i==n-1 or j==n-1:\n",
    "            print(\"*\",end=\" \")\n",
    "        else:\n",
    "            print(\" \",end=\" \")\n",
    "    print()"
   ]
  },
  {
   "cell_type": "code",
   "execution_count": 31,
   "id": "1a428f82",
   "metadata": {},
   "outputs": [
    {
     "name": "stdout",
     "output_type": "stream",
     "text": [
      "5\n",
      "\n",
      "* \n",
      "* * \n",
      "* * * \n",
      "* * * * \n"
     ]
    }
   ],
   "source": [
    "n = int(input())\n",
    "for i in range(n):\n",
    "    for j in range(i):\n",
    "        print(\"*\",end=\" \")\n",
    "    print()"
   ]
  },
  {
   "cell_type": "code",
   "execution_count": 32,
   "id": "cf954550",
   "metadata": {},
   "outputs": [
    {
     "name": "stdout",
     "output_type": "stream",
     "text": [
      "5\n",
      "* * * * * \n",
      "* # # # * \n",
      "* # # # * \n",
      "* # # # * \n",
      "* * * * * \n"
     ]
    }
   ],
   "source": [
    "n = int(input())\n",
    "for i in range(n):\n",
    "    for j in range(n):\n",
    "        if i==0 or j==0 or i==n-1 or j==n-1:\n",
    "            print(\"*\",end=\" \")\n",
    "        else:\n",
    "            print(\"#\",end=\" \")\n",
    "    print()"
   ]
  },
  {
   "cell_type": "code",
   "execution_count": 36,
   "id": "bf1a55c3",
   "metadata": {},
   "outputs": [
    {
     "name": "stdout",
     "output_type": "stream",
     "text": [
      "Enter number of records: 1\n",
      "Enter 1 Record S.Name:Prasad\n",
      "Enter 1 Record Sbch:CSE\n",
      "1 Record Student Details are:\n",
      "Sname: Prasad\tSbranch: CSE\n",
      "\n"
     ]
    }
   ],
   "source": [
    "n = int(input(\"Enter number of records: \"))\n",
    "for i in range(n):\n",
    "    for j in range(i):\n",
    "        nme = input(\"Enter {} Record S.Name:\"\n",
    "                   .format(j+1))\n",
    "        brch = input(\"Enter {} Record Sbch:\"\n",
    "                    .format(j+1))\n",
    "        print(\"{} Record Student Details are:\"\n",
    "             .format(j+1))\n",
    "        print(\"Sname: {}\\tSbranch: {}\"\n",
    "             .format(nme,brch))\n",
    "    print()"
   ]
  },
  {
   "cell_type": "markdown",
   "id": "f2f3a392",
   "metadata": {},
   "source": [
    "## Functions:\n",
    "    - To perform a specific task\n",
    "    - To solve complex problem into small modules or statements\n",
    "    - Predefined\n",
    "    - User defined\n",
    "        - with returntype and with arguments\n",
    "        - with returntype and without arguments\n",
    "        - without returntype and with arguments\n",
    "        - without returntype and without arguments\n",
    "    - Lambda [without def keyword]\n",
    "    - Recursive [Function calling by itself]\n",
    "    \n",
    "    Syntax:\n",
    "        def functionname(arguments):\n",
    "            //stmnts\n",
    "            return return_value"
   ]
  },
  {
   "cell_type": "code",
   "execution_count": 37,
   "id": "33cc8b34",
   "metadata": {},
   "outputs": [
    {
     "name": "stdout",
     "output_type": "stream",
     "text": [
      "Enter a number: 5\n",
      "Factorial of 5 is: 120\n"
     ]
    }
   ],
   "source": [
    "# With returntype and with arguments\n",
    "# Reading => Main\n",
    "# Printing => Main\n",
    "# Logic => Function\n",
    "def fct(k):\n",
    "    v = 1\n",
    "    for i in range(1,k+1):\n",
    "        v*=i\n",
    "    return v\n",
    "\n",
    "n = int(input(\"Enter a number: \"))\n",
    "print(\"Factorial of {} is: {}\"\n",
    "      .format(n,fct(n)))"
   ]
  },
  {
   "cell_type": "code",
   "execution_count": 39,
   "id": "5a5a402c",
   "metadata": {},
   "outputs": [
    {
     "name": "stdout",
     "output_type": "stream",
     "text": [
      "Enter a number: 6\n",
      "Factorial of 6 is: 720\n"
     ]
    }
   ],
   "source": [
    "# with returntype and without arguments\n",
    "# Reading: Function\n",
    "# Printing: Main\n",
    "# Logic: Function\n",
    "def ft():\n",
    "    n,c = int(input(\"Enter a number: \")),1\n",
    "    print(\"Factorial of {} is:\"\n",
    "          .format(n),end=\" \")\n",
    "    for i in range(1,n+1):\n",
    "        c*=i\n",
    "    return c\n",
    "\n",
    "print(\"{}\".format(ft()))"
   ]
  },
  {
   "cell_type": "code",
   "execution_count": 40,
   "id": "3a8c27e7",
   "metadata": {},
   "outputs": [
    {
     "name": "stdout",
     "output_type": "stream",
     "text": [
      "Enter a number: 4\n",
      "Factorial of 4 is: 24\n"
     ]
    }
   ],
   "source": [
    "# Without returntype and with arguments\n",
    "# Reading: Main\n",
    "# Printing: Function\n",
    "# Logic: Function\n",
    "def sft(y):\n",
    "    h = 1\n",
    "    for i in range(1,y+1):\n",
    "        h*=i\n",
    "    print(\"Factorial of {} is: {}\"\n",
    "          .format(y,h))\n",
    "    return\n",
    "\n",
    "n = int(input(\"Enter a number: \"))\n",
    "sft(n)"
   ]
  },
  {
   "cell_type": "code",
   "execution_count": 44,
   "id": "f1f81acf",
   "metadata": {},
   "outputs": [
    {
     "name": "stdout",
     "output_type": "stream",
     "text": [
      "Enter a number: 5\n",
      "Factorial of 5 is: 120\n"
     ]
    }
   ],
   "source": [
    "# without returntype and without argumnets\n",
    "# Reading: Function\n",
    "# Printing: Function\n",
    "# Logic: Function\n",
    "def gft():\n",
    "    n,v = int(input(\"Enter a number: \")),1\n",
    "    for i in range(1,n+1):\n",
    "        v*=i\n",
    "    print(\"Factorial of {} is: {}\".format(n,v))\n",
    "    return\n",
    "\n",
    "gft()"
   ]
  },
  {
   "cell_type": "code",
   "execution_count": 45,
   "id": "fa6dd020",
   "metadata": {},
   "outputs": [
    {
     "name": "stdout",
     "output_type": "stream",
     "text": [
      "5\n",
      "1! = 1\n",
      "2! = 2\n",
      "3! = 6\n",
      "4! = 24\n",
      "5! = 120\n"
     ]
    }
   ],
   "source": [
    "def gh(h):\n",
    "    y=1\n",
    "    for i in range(1,h+1):\n",
    "        y*=i\n",
    "    return y\n",
    "\n",
    "n = int(input())\n",
    "for i in range(1,n+1):\n",
    "    print(\"{}! = {}\".format(i,gh(i)))"
   ]
  },
  {
   "cell_type": "markdown",
   "id": "85a3a889",
   "metadata": {},
   "source": [
    "## Function Argument Types:\n",
    "    - Default argument\n",
    "    - Keyword argument\n",
    "    - Required or Positional argument\n",
    "    - Variable Length [Arbitary argument]\n",
    "        - Arbitary Positional\n",
    "        - Arbitary Keyword"
   ]
  },
  {
   "cell_type": "markdown",
   "id": "5af44dd5",
   "metadata": {},
   "source": [
    "## Default Argument:"
   ]
  },
  {
   "cell_type": "code",
   "execution_count": 46,
   "id": "bf81446f",
   "metadata": {},
   "outputs": [
    {
     "name": "stdout",
     "output_type": "stream",
     "text": [
      "Enter Roll Number: 587\n",
      "Enter Name: Lalitha\n",
      "Entered Roll Number is: 587\n",
      "Entered Name is: Lalitha\n",
      "Age is: 20\n"
     ]
    }
   ],
   "source": [
    "def stdls(r,n,a=20):\n",
    "    print(\"Entered Roll Number is: {}\"\n",
    "          .format(r))\n",
    "    print(\"Entered Name is: {}\".format(n))\n",
    "    print(\"Age is: {}\".format(a))\n",
    "    return\n",
    "\n",
    "sr = input(\"Enter Roll Number: \")\n",
    "sname = input(\"Enter Name: \")\n",
    "stdls(sr,sname)"
   ]
  },
  {
   "cell_type": "code",
   "execution_count": 47,
   "id": "8b9527bf",
   "metadata": {},
   "outputs": [
    {
     "name": "stdout",
     "output_type": "stream",
     "text": [
      "Enter Roll Number: 452\n",
      "Enter Name: Prasad\n",
      "Entered Roll Number is: 452\n",
      "Entered Name is: Prasad\n",
      "Age is: 20\n"
     ]
    }
   ],
   "source": [
    "def stdls(r,n=\"Rajesh\",a=20):\n",
    "    print(\"Entered Roll Number is: {}\"\n",
    "          .format(r))\n",
    "    print(\"Entered Name is: {}\".format(n))\n",
    "    print(\"Age is: {}\".format(a))\n",
    "    return\n",
    "\n",
    "sr = input(\"Enter Roll Number: \")\n",
    "sname = input(\"Enter Name: \")\n",
    "stdls(sr,sname)"
   ]
  },
  {
   "cell_type": "code",
   "execution_count": 48,
   "id": "f81ab719",
   "metadata": {},
   "outputs": [
    {
     "name": "stdout",
     "output_type": "stream",
     "text": [
      "Enter Roll Number: 560\n",
      "Entered Roll Number is: 560\n",
      "Entered Name is: Rajesh\n",
      "Age is: 20\n"
     ]
    }
   ],
   "source": [
    "def stdls(r,n=\"Rajesh\",a=20):\n",
    "    print(\"Entered Roll Number is: {}\"\n",
    "          .format(r))\n",
    "    print(\"Entered Name is: {}\".format(n))\n",
    "    print(\"Age is: {}\".format(a))\n",
    "    return\n",
    "\n",
    "sr = input(\"Enter Roll Number: \")\n",
    "stdls(sr)"
   ]
  },
  {
   "cell_type": "code",
   "execution_count": 49,
   "id": "9826a23a",
   "metadata": {},
   "outputs": [
    {
     "name": "stdout",
     "output_type": "stream",
     "text": [
      "Entered Roll Number is: 568\n",
      "Entered Name is: Rajesh\n",
      "Age is: 20\n"
     ]
    }
   ],
   "source": [
    "def stdls(r=\"568\",n=\"Rajesh\",a=20):\n",
    "    print(\"Entered Roll Number is: {}\"\n",
    "          .format(r))\n",
    "    print(\"Entered Name is: {}\".format(n))\n",
    "    print(\"Age is: {}\".format(a))\n",
    "    return\n",
    "\n",
    "stdls()"
   ]
  },
  {
   "cell_type": "code",
   "execution_count": 50,
   "id": "7df2fed1",
   "metadata": {},
   "outputs": [
    {
     "ename": "SyntaxError",
     "evalue": "non-default argument follows default argument (133659950.py, line 1)",
     "output_type": "error",
     "traceback": [
      "\u001b[1;36m  Cell \u001b[1;32mIn[50], line 1\u001b[1;36m\u001b[0m\n\u001b[1;33m    def stdls(r=\"568\",n,a):\u001b[0m\n\u001b[1;37m                        ^\u001b[0m\n\u001b[1;31mSyntaxError\u001b[0m\u001b[1;31m:\u001b[0m non-default argument follows default argument\n"
     ]
    }
   ],
   "source": [
    "def stdls(r=\"568\",n,a):\n",
    "    print(\"Entered Roll Number is: {}\"\n",
    "          .format(r))\n",
    "    print(\"Entered Name is: {}\".format(n))\n",
    "    print(\"Age is: {}\".format(a))\n",
    "    return\n",
    "\n",
    "stdls()"
   ]
  },
  {
   "cell_type": "code",
   "execution_count": 51,
   "id": "a59d6a33",
   "metadata": {},
   "outputs": [
    {
     "ename": "SyntaxError",
     "evalue": "non-default argument follows default argument (2167468252.py, line 1)",
     "output_type": "error",
     "traceback": [
      "\u001b[1;36m  Cell \u001b[1;32mIn[51], line 1\u001b[1;36m\u001b[0m\n\u001b[1;33m    def stdls(r,n=\"Tilak\",a):\u001b[0m\n\u001b[1;37m                           ^\u001b[0m\n\u001b[1;31mSyntaxError\u001b[0m\u001b[1;31m:\u001b[0m non-default argument follows default argument\n"
     ]
    }
   ],
   "source": [
    "def stdls(r,n=\"Tilak\",a):\n",
    "    print(\"Entered Roll Number is: {}\"\n",
    "          .format(r))\n",
    "    print(\"Entered Name is: {}\".format(n))\n",
    "    print(\"Age is: {}\".format(a))\n",
    "    return\n",
    "\n",
    "stdls()"
   ]
  },
  {
   "cell_type": "code",
   "execution_count": 52,
   "id": "d8984cc1",
   "metadata": {},
   "outputs": [
    {
     "name": "stdout",
     "output_type": "stream",
     "text": [
      "Enter Roll Number: 458\n",
      "Enter Name: Kiran\n",
      "Enter Age: 25\n",
      "Entered Roll Number is: 458\n",
      "Entered Name is: Kiran\n",
      "Age is: 25\n"
     ]
    }
   ],
   "source": [
    "def stdls(r,n,a):\n",
    "    print(\"Entered Roll Number is: {}\"\n",
    "          .format(r))\n",
    "    print(\"Entered Name is: {}\".format(n))\n",
    "    print(\"Age is: {}\".format(a))\n",
    "    return\n",
    "\n",
    "sr = input(\"Enter Roll Number: \")\n",
    "sname = input(\"Enter Name: \")\n",
    "sage = int(input(\"Enter Age: \"))\n",
    "stdls(sr,sname,sage)"
   ]
  },
  {
   "cell_type": "code",
   "execution_count": 53,
   "id": "d4081e79",
   "metadata": {},
   "outputs": [
    {
     "name": "stdout",
     "output_type": "stream",
     "text": [
      "Enter Roll Number: 589\n",
      "Enter Name: Dinesh\n",
      "Enter Age: 26\n",
      "Entered Roll Number is: 589\n",
      "Entered Name is: Dinesh\n",
      "Age is: 26\n"
     ]
    }
   ],
   "source": [
    "def stdls(r=\"125\",n=\"Manoj\",a=23):\n",
    "    print(\"Entered Roll Number is: {}\"\n",
    "          .format(r))\n",
    "    print(\"Entered Name is: {}\".format(n))\n",
    "    print(\"Age is: {}\".format(a))\n",
    "    return\n",
    "\n",
    "sr = input(\"Enter Roll Number: \")\n",
    "sname = input(\"Enter Name: \")\n",
    "sage = int(input(\"Enter Age: \"))\n",
    "stdls(sr,sname,sage)"
   ]
  },
  {
   "cell_type": "markdown",
   "id": "b44da69a",
   "metadata": {},
   "source": [
    "## Required or Positional Argument:"
   ]
  },
  {
   "cell_type": "code",
   "execution_count": 54,
   "id": "2c43ed99",
   "metadata": {},
   "outputs": [
    {
     "name": "stdout",
     "output_type": "stream",
     "text": [
      "Enter Ename: Tarun\n",
      "Enter Eid: E234\n"
     ]
    },
    {
     "ename": "TypeError",
     "evalue": "emp() takes 1 positional argument but 2 were given",
     "output_type": "error",
     "traceback": [
      "\u001b[1;31m---------------------------------------------------------------------------\u001b[0m",
      "\u001b[1;31mTypeError\u001b[0m                                 Traceback (most recent call last)",
      "Cell \u001b[1;32mIn[54], line 8\u001b[0m\n\u001b[0;32m      6\u001b[0m en \u001b[38;5;241m=\u001b[39m \u001b[38;5;28minput\u001b[39m(\u001b[38;5;124m\"\u001b[39m\u001b[38;5;124mEnter Ename: \u001b[39m\u001b[38;5;124m\"\u001b[39m)\n\u001b[0;32m      7\u001b[0m eid \u001b[38;5;241m=\u001b[39m \u001b[38;5;28minput\u001b[39m(\u001b[38;5;124m\"\u001b[39m\u001b[38;5;124mEnter Eid: \u001b[39m\u001b[38;5;124m\"\u001b[39m)\n\u001b[1;32m----> 8\u001b[0m \u001b[43memp\u001b[49m\u001b[43m(\u001b[49m\u001b[43men\u001b[49m\u001b[43m,\u001b[49m\u001b[43meid\u001b[49m\u001b[43m)\u001b[49m\n",
      "\u001b[1;31mTypeError\u001b[0m: emp() takes 1 positional argument but 2 were given"
     ]
    }
   ],
   "source": [
    "def emp(ed):\n",
    "    print(\"Entered EmployeeId is: {}\"\n",
    "          .format(ed))\n",
    "    return\n",
    "\n",
    "en = input(\"Enter Ename: \")\n",
    "eid = input(\"Enter Eid: \")\n",
    "emp(en,eid)"
   ]
  },
  {
   "cell_type": "code",
   "execution_count": 55,
   "id": "805946ee",
   "metadata": {},
   "outputs": [
    {
     "name": "stdout",
     "output_type": "stream",
     "text": [
      "Enter Ename: Kalyani\n",
      "Enter Eid: E345\n"
     ]
    },
    {
     "ename": "TypeError",
     "evalue": "emp() missing 1 required positional argument: 'esal'",
     "output_type": "error",
     "traceback": [
      "\u001b[1;31m---------------------------------------------------------------------------\u001b[0m",
      "\u001b[1;31mTypeError\u001b[0m                                 Traceback (most recent call last)",
      "Cell \u001b[1;32mIn[55], line 10\u001b[0m\n\u001b[0;32m      8\u001b[0m en \u001b[38;5;241m=\u001b[39m \u001b[38;5;28minput\u001b[39m(\u001b[38;5;124m\"\u001b[39m\u001b[38;5;124mEnter Ename: \u001b[39m\u001b[38;5;124m\"\u001b[39m)\n\u001b[0;32m      9\u001b[0m eid \u001b[38;5;241m=\u001b[39m \u001b[38;5;28minput\u001b[39m(\u001b[38;5;124m\"\u001b[39m\u001b[38;5;124mEnter Eid: \u001b[39m\u001b[38;5;124m\"\u001b[39m)\n\u001b[1;32m---> 10\u001b[0m \u001b[43memp\u001b[49m\u001b[43m(\u001b[49m\u001b[43men\u001b[49m\u001b[43m,\u001b[49m\u001b[43meid\u001b[49m\u001b[43m)\u001b[49m\n",
      "\u001b[1;31mTypeError\u001b[0m: emp() missing 1 required positional argument: 'esal'"
     ]
    }
   ],
   "source": [
    "def emp(ename,ed,esal):\n",
    "    print(\"Entered EmployeeId is: {}\"\n",
    "          .format(ed))\n",
    "    print(\"Entered Employee Name is: {}\"\n",
    "         .format(ename))\n",
    "    return\n",
    "\n",
    "en = input(\"Enter Ename: \")\n",
    "eid = input(\"Enter Eid: \")\n",
    "emp(en,eid)"
   ]
  },
  {
   "cell_type": "code",
   "execution_count": 56,
   "id": "115353b5",
   "metadata": {},
   "outputs": [
    {
     "name": "stdout",
     "output_type": "stream",
     "text": [
      "Enter Ename: Lavanya\n",
      "Enter Eid: E453\n",
      "Entered EmployeeId is: E453\n",
      "Entered Employee Name is: Lavanya\n",
      "Employee Salary is: 2500\n"
     ]
    }
   ],
   "source": [
    "def emp(ename,ed,esal=2500):\n",
    "    print(\"Entered EmployeeId is: {}\"\n",
    "          .format(ed))\n",
    "    print(\"Entered Employee Name is: {}\"\n",
    "         .format(ename))\n",
    "    print(\"Employee Salary is: {}\".format(esal))\n",
    "    return\n",
    "\n",
    "en = input(\"Enter Ename: \")\n",
    "eid = input(\"Enter Eid: \")\n",
    "emp(en,eid)"
   ]
  },
  {
   "cell_type": "markdown",
   "id": "c01938e9",
   "metadata": {},
   "source": [
    "## Keyword Argument:"
   ]
  },
  {
   "cell_type": "code",
   "execution_count": 57,
   "id": "8c181694",
   "metadata": {},
   "outputs": [
    {
     "name": "stdout",
     "output_type": "stream",
     "text": [
      "Enter Roll Number: 578\n",
      "Enter Name: Jhon\n",
      "Enter Branch: CSE\n",
      "Entered Roll Number: 578\n",
      "Entered Name is: Jhon\n",
      "Entered Branch is: CSE\n"
     ]
    }
   ],
   "source": [
    "def std(b,a,c):\n",
    "    print(\"Entered Roll Number: {}\"\n",
    "         .format(a))\n",
    "    print(\"Entered Name is: {}\".format(b))\n",
    "    print(\"Entered Branch is: {}\".format(c))\n",
    "    return\n",
    "\n",
    "sn = input(\"Enter Roll Number: \")\n",
    "sname = input(\"Enter Name: \")\n",
    "sbch = input(\"Enter Branch: \")\n",
    "std(c=sbch,a=sn,b=sname)"
   ]
  },
  {
   "cell_type": "code",
   "execution_count": 58,
   "id": "1111b3b7",
   "metadata": {},
   "outputs": [
    {
     "name": "stdout",
     "output_type": "stream",
     "text": [
      "Enter Roll Number: 568\n",
      "Enter Name: Arun\n",
      "Enter Branch: CIVIL\n"
     ]
    },
    {
     "ename": "TypeError",
     "evalue": "std() missing 1 required positional argument: 'h'",
     "output_type": "error",
     "traceback": [
      "\u001b[1;31m---------------------------------------------------------------------------\u001b[0m",
      "\u001b[1;31mTypeError\u001b[0m                                 Traceback (most recent call last)",
      "Cell \u001b[1;32mIn[58], line 11\u001b[0m\n\u001b[0;32m      9\u001b[0m sname \u001b[38;5;241m=\u001b[39m \u001b[38;5;28minput\u001b[39m(\u001b[38;5;124m\"\u001b[39m\u001b[38;5;124mEnter Name: \u001b[39m\u001b[38;5;124m\"\u001b[39m)\n\u001b[0;32m     10\u001b[0m sbch \u001b[38;5;241m=\u001b[39m \u001b[38;5;28minput\u001b[39m(\u001b[38;5;124m\"\u001b[39m\u001b[38;5;124mEnter Branch: \u001b[39m\u001b[38;5;124m\"\u001b[39m)\n\u001b[1;32m---> 11\u001b[0m \u001b[43mstd\u001b[49m\u001b[43m(\u001b[49m\u001b[43mc\u001b[49m\u001b[38;5;241;43m=\u001b[39;49m\u001b[43msbch\u001b[49m\u001b[43m,\u001b[49m\u001b[43ma\u001b[49m\u001b[38;5;241;43m=\u001b[39;49m\u001b[43msn\u001b[49m\u001b[43m,\u001b[49m\u001b[43mb\u001b[49m\u001b[38;5;241;43m=\u001b[39;49m\u001b[43msname\u001b[49m\u001b[43m)\u001b[49m\n",
      "\u001b[1;31mTypeError\u001b[0m: std() missing 1 required positional argument: 'h'"
     ]
    }
   ],
   "source": [
    "def std(b,a,c,h):\n",
    "    print(\"Entered Roll Number: {}\"\n",
    "         .format(a))\n",
    "    print(\"Entered Name is: {}\".format(b))\n",
    "    print(\"Entered Branch is: {}\".format(c))\n",
    "    return\n",
    "\n",
    "sn = input(\"Enter Roll Number: \")\n",
    "sname = input(\"Enter Name: \")\n",
    "sbch = input(\"Enter Branch: \")\n",
    "std(c=sbch,a=sn,b=sname)"
   ]
  },
  {
   "cell_type": "code",
   "execution_count": 59,
   "id": "80e58c47",
   "metadata": {},
   "outputs": [
    {
     "ename": "SyntaxError",
     "evalue": "positional argument follows keyword argument (446442992.py, line 11)",
     "output_type": "error",
     "traceback": [
      "\u001b[1;36m  Cell \u001b[1;32mIn[59], line 11\u001b[1;36m\u001b[0m\n\u001b[1;33m    std(c=sbch,a=sn,b=sname,j)\u001b[0m\n\u001b[1;37m                             ^\u001b[0m\n\u001b[1;31mSyntaxError\u001b[0m\u001b[1;31m:\u001b[0m positional argument follows keyword argument\n"
     ]
    }
   ],
   "source": [
    "def std(b,a,c):\n",
    "    print(\"Entered Roll Number: {}\"\n",
    "         .format(a))\n",
    "    print(\"Entered Name is: {}\".format(b))\n",
    "    print(\"Entered Branch is: {}\".format(c))\n",
    "    return\n",
    "\n",
    "sn = input(\"Enter Roll Number: \")\n",
    "sname = input(\"Enter Name: \")\n",
    "sbch = input(\"Enter Branch: \")\n",
    "std(c=sbch,a=sn,b=sname,j)"
   ]
  },
  {
   "cell_type": "code",
   "execution_count": 63,
   "id": "9868f5f3",
   "metadata": {},
   "outputs": [
    {
     "name": "stdout",
     "output_type": "stream",
     "text": [
      "Enter Roll Number: 542\n",
      "Enter Name: Kalyan\n",
      "Enter Branch: EEE\n"
     ]
    },
    {
     "ename": "NameError",
     "evalue": "name 'p' is not defined",
     "output_type": "error",
     "traceback": [
      "\u001b[1;31m---------------------------------------------------------------------------\u001b[0m",
      "\u001b[1;31mNameError\u001b[0m                                 Traceback (most recent call last)",
      "Cell \u001b[1;32mIn[63], line 11\u001b[0m\n\u001b[0;32m      9\u001b[0m sname \u001b[38;5;241m=\u001b[39m \u001b[38;5;28minput\u001b[39m(\u001b[38;5;124m\"\u001b[39m\u001b[38;5;124mEnter Name: \u001b[39m\u001b[38;5;124m\"\u001b[39m)\n\u001b[0;32m     10\u001b[0m sbch \u001b[38;5;241m=\u001b[39m \u001b[38;5;28minput\u001b[39m(\u001b[38;5;124m\"\u001b[39m\u001b[38;5;124mEnter Branch: \u001b[39m\u001b[38;5;124m\"\u001b[39m)\n\u001b[1;32m---> 11\u001b[0m std(c\u001b[38;5;241m=\u001b[39msbch,a\u001b[38;5;241m=\u001b[39msn,b\u001b[38;5;241m=\u001b[39msname,k\u001b[38;5;241m=\u001b[39m\u001b[43mp\u001b[49m)\n",
      "\u001b[1;31mNameError\u001b[0m: name 'p' is not defined"
     ]
    }
   ],
   "source": [
    "def std(b,a,c,k=45):\n",
    "    print(\"Entered Roll Number: {}\"\n",
    "         .format(a))\n",
    "    print(\"Entered Name is: {}\".format(b))\n",
    "    print(\"Entered Branch is: {}\".format(c))\n",
    "    return\n",
    "\n",
    "sn = input(\"Enter Roll Number: \")\n",
    "sname = input(\"Enter Name: \")\n",
    "sbch = input(\"Enter Branch: \")\n",
    "std(c=sbch,a=sn,b=sname,k=p)"
   ]
  },
  {
   "cell_type": "code",
   "execution_count": 62,
   "id": "fa499a0f",
   "metadata": {},
   "outputs": [
    {
     "ename": "SyntaxError",
     "evalue": "non-default argument follows default argument (3206724284.py, line 1)",
     "output_type": "error",
     "traceback": [
      "\u001b[1;36m  Cell \u001b[1;32mIn[62], line 1\u001b[1;36m\u001b[0m\n\u001b[1;33m    def std(b,a,k=45,c):\u001b[0m\n\u001b[1;37m                      ^\u001b[0m\n\u001b[1;31mSyntaxError\u001b[0m\u001b[1;31m:\u001b[0m non-default argument follows default argument\n"
     ]
    }
   ],
   "source": [
    "def std(b,a,k=45,c):\n",
    "    print(\"Entered Roll Number: {}\"\n",
    "         .format(a))\n",
    "    print(\"Entered Name is: {}\".format(b))\n",
    "    print(\"Entered Branch is: {}\".format(c))\n",
    "    return\n",
    "\n",
    "sn = input(\"Enter Roll Number: \")\n",
    "sname = input(\"Enter Name: \")\n",
    "sbch = input(\"Enter Branch: \")\n",
    "std(c=sbch,a=sn,b=sname,k=j)"
   ]
  },
  {
   "cell_type": "code",
   "execution_count": 64,
   "id": "5fa9ec15",
   "metadata": {},
   "outputs": [
    {
     "name": "stdout",
     "output_type": "stream",
     "text": [
      "Enter Roll Number: 578\n",
      "Enter Name: Harish\n",
      "Enter Branch: ECE\n",
      "Entered Roll Number: 578\n",
      "Entered Name is: Harish\n",
      "Entered Branch is: ECE\n"
     ]
    }
   ],
   "source": [
    "def std(b,a,c,k):\n",
    "    print(\"Entered Roll Number: {}\"\n",
    "         .format(a))\n",
    "    print(\"Entered Name is: {}\".format(b))\n",
    "    print(\"Entered Branch is: {}\".format(c))\n",
    "    return\n",
    "\n",
    "sn = input(\"Enter Roll Number: \")\n",
    "sname = input(\"Enter Name: \")\n",
    "sbch = input(\"Enter Branch: \")\n",
    "std(c=sbch,a=sn,b=sname,k=45)"
   ]
  },
  {
   "cell_type": "code",
   "execution_count": null,
   "id": "c251099d",
   "metadata": {},
   "outputs": [],
   "source": []
  }
 ],
 "metadata": {
  "kernelspec": {
   "display_name": "Python 3 (ipykernel)",
   "language": "python",
   "name": "python3"
  },
  "language_info": {
   "codemirror_mode": {
    "name": "ipython",
    "version": 3
   },
   "file_extension": ".py",
   "mimetype": "text/x-python",
   "name": "python",
   "nbconvert_exporter": "python",
   "pygments_lexer": "ipython3",
   "version": "3.9.13"
  }
 },
 "nbformat": 4,
 "nbformat_minor": 5
}
